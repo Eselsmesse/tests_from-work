{
 "cells": [
  {
   "cell_type": "markdown",
   "metadata": {
    "deletable": false,
    "editable": false
   },
   "source": [
    "### 0. Описание"
   ]
  },
  {
   "cell_type": "markdown",
   "metadata": {
    "deletable": false,
    "editable": false
   },
   "source": [
    "---\n",
    "В данном ноутбуке содержится код алгоритма предсказания поисковой выдачи.\n",
    "Алгоритм довольно простой:\n",
    "* на исторических запросах строится TF-IDF индекс слов, биграмм и триграмм\n",
    "* описание товаров и значение их атрибутов объединяются в одно суммарное описание\n",
    "* суммарное описание каждого товара прогоняется через построенный индекс\n",
    "* к каждому запросу ищутся топ-25 релевантных товаров по скалярному произведению векторных представлений\n",
    "\n",
    "---\n",
    "Данный код не идеален и ему требуется внимание знающего человека.\n",
    "Подробнее об этом в каждом из пунктов этого ноутбука."
   ]
  },
  {
   "cell_type": "markdown",
   "metadata": {
    "deletable": false,
    "editable": false
   },
   "source": [
    "__nB!__ Для выполнения данного задания должны быть установлены библиотеки `numpy`, `pandas`, `matplotlib`, `joblib`, а так же `scikit-learn`. Версии указаны в _requirements.txt_."
   ]
  },
  {
   "cell_type": "markdown",
   "metadata": {
    "deletable": false,
    "editable": false
   },
   "source": [
    "Данный ноутбук может быть выполнен в его текущем состоянии от начала и до конца, поэтому пункты можно решать не последовательно.\n",
    "\n",
    "Однако для того чтобы приступить к некоторым пунктам, сначала необходимо прогнать ячейки с кодом предыдущих.\n",
    "\n",
    "Все ячейки кроме пустых заблокированы для редактирования, не стесняйтесь создавать новые."
   ]
  },
  {
   "cell_type": "markdown",
   "metadata": {
    "deletable": false,
    "editable": false
   },
   "source": [
    "### 1. Рефакторинг полотен кода"
   ]
  },
  {
   "cell_type": "markdown",
   "metadata": {
    "deletable": false,
    "editable": false
   },
   "source": [
    "В этом задании нужно проявить себя как программиста и найти неэффективные части кода как по памяти, так и по времени исполнения; также в коде присутствуют плохо структурированные части, в конце концов есть даже баг (!).\n",
    "\n",
    "_Hint:_ Представьте, что вам нужно добавить этот код в свою библиотеку и использовать раз за разом."
   ]
  },
  {
   "cell_type": "markdown",
   "metadata": {
    "deletable": false,
    "editable": false
   },
   "source": [
    "---\n",
    "\n",
    "Результатом выполнения данного задания может быть как с нуля написанный код, так и оптимизированная версия приведённого.\n",
    "\n",
    "Данное задание позволяет оценить бэкграунд кандидата, его знание питона, умение структурировать свой код и читать чужой.\n",
    "\n",
    "---"
   ]
  },
  {
   "cell_type": "markdown",
   "metadata": {},
   "source": [
    "#### Описание\n",
    "В качестве входных данных нам поступает tsv-файл (tab separated values), в котором присутствует колонка `search_term`.\n",
    "Значения из этой колонки являются поисковыми запросами пользователей.\n",
    "\n",
    "Нам хочется научиться считать [TF-IDF](https://ru.wikipedia.org/wiki/TF-IDF) вектора для таких запросов. (не используя сторонних библиотек, конечно же)\n",
    "\n",
    "Прежде чем подсчитывать встречаемость слов, мы приводим все слова к нижнему регистру, удаляем пунктуацию и слова состоящие из одних лишь цифр.\n",
    "\n",
    "Помимо обычных слов, мы добавляем в словарь токенов биграммы и триграммы.\n",
    "\n",
    "Чтобы не \"раздувать\" словарь токенов, для слов, биграмм и триграмм мы вводим отдельные границы встречаемости.\n",
    "Таким образом, если слово встречалось менее чем в 50 запросах, то оно не попадает в итоговый словарь. Для биграмм и триграмм границы соответственно 25 и 10.\n",
    "\n",
    "Первая функция возвращает пару словарей: в первом находится отображение токенов в индексы внутри вектора, во втором -- частота встречаемости токенов в запросах.\n",
    "\n",
    "Вторая функция принимает запрос пользователя в виде непредобработанной строки, словари из первой функции и возвращает вектор TF-IDF для данного запроса."
   ]
  },
  {
   "cell_type": "code",
   "execution_count": 1,
   "metadata": {
    "ExecuteTime": {
     "end_time": "2019-07-23T16:19:11.170263Z",
     "start_time": "2019-07-23T16:19:11.160719Z"
    },
    "code_folding": [],
    "deletable": false,
    "editable": false
   },
   "outputs": [],
   "source": [
    "from string import punctuation\n",
    "from math import log\n",
    "\n",
    "LIMITS = {\n",
    "    1: 50,\n",
    "    2: 25,\n",
    "    3: 10,\n",
    "}\n",
    "\n",
    "def build_tfidf_index(filename):\n",
    "    with open(filename) as file:\n",
    "        lines = file.readlines()\n",
    "    header, lines = lines[0], lines[1:]\n",
    "    sentence_idx = header.rstrip('\\n').split('\\t').index('search_term')\n",
    "    sentences = [line.rstrip('\\n').split('\\t')[sentence_idx] for line in lines]\n",
    "\n",
    "    new_sentences = []\n",
    "    for sentence in sentences:\n",
    "        words = sentence.split(' ')\n",
    "        new_words = []\n",
    "        for word in words:\n",
    "            new_word = ''\n",
    "            for char in word:\n",
    "                if char not in punctuation:\n",
    "                    new_word += char.lower()\n",
    "            if new_word != '' and not new_word.isnumeric():\n",
    "                new_words.append(new_word)\n",
    "        new_sentences.append(new_words)\n",
    "\n",
    "    word_count = dict()\n",
    "    for sentence in new_sentences:\n",
    "        for word in sentence:\n",
    "            if word not in word_count:\n",
    "                word_count[word] = 1\n",
    "            else:\n",
    "                word_count[word] += 1\n",
    "\n",
    "    bigram_count = dict()\n",
    "    for sentence in new_sentences:\n",
    "        for i in range(len(sentence)-1):\n",
    "            bigram = sentence[i] + '_' + sentence[i+1]\n",
    "            if bigram not in bigram_count:\n",
    "                bigram_count[bigram] = 1\n",
    "            else:\n",
    "                bigram_count[bigram] += 1\n",
    "\n",
    "    trigram_count = dict()\n",
    "    for sentence in new_sentences:\n",
    "        for i in range(len(sentence)-2):\n",
    "            trigram = sentence[i] + '_' + sentence[i+1] + '_' + sentence[i+2]\n",
    "            if trigram not in trigram_count:\n",
    "                trigram_count[trigram] = 1\n",
    "            else:\n",
    "                trigram_count[trigram] += 1\n",
    "\n",
    "    log_nsents = log(len(sentences))\n",
    "    idf = {}\n",
    "    for word, count in word_count.items():\n",
    "        if count > LIMITS[1]:\n",
    "            idf[word] = log_nsents - log(count)\n",
    "    for bigram, count in bigram_count.items():\n",
    "        if count > LIMITS[2]:\n",
    "            idf[bigram] = log_nsents - log(count)\n",
    "    for trigram, count in trigram_count.items():\n",
    "        if count > LIMITS[3]:\n",
    "            idf[trigram] = log_nsents - log(count)\n",
    "\n",
    "    index = {}\n",
    "    for i, key in enumerate(idf.keys()):\n",
    "        index[key] = i\n",
    "\n",
    "    return index, idf"
   ]
  },
  {
   "cell_type": "code",
   "execution_count": 2,
   "metadata": {
    "ExecuteTime": {
     "end_time": "2019-07-23T16:19:11.224771Z",
     "start_time": "2019-07-23T16:19:11.171981Z"
    },
    "code_folding": []
   },
   "outputs": [],
   "source": [
    "import numpy as np\n",
    "\n",
    "def build_tfidf_vector(sentence, index, idf):\n",
    "    words = sentence.split(' ')\n",
    "    new_words = []\n",
    "    for word in words:\n",
    "        new_word = ''\n",
    "        for char in word:\n",
    "            if char not in punctuation:\n",
    "                new_word += char.lower()\n",
    "        if new_word != '' and not new_word.isnumeric():\n",
    "            new_words.append(new_word)\n",
    "\n",
    "    counts = {}\n",
    "    for word in new_words:\n",
    "        counts[word] = new_words.count(word)\n",
    "\n",
    "    bigrams = []\n",
    "    for i in range(len(new_words)-1):\n",
    "        bigrams.append(new_words[i] + '_' + new_words[i+1])\n",
    "    for bigram in bigrams:\n",
    "        counts[bigram] = bigrams.count(bigram)\n",
    "\n",
    "    trigrams = []\n",
    "    for i in range(len(new_words)-2):\n",
    "        trigrams.append(new_words[i] + '_' + new_words[i+1] + '_' + new_words[i+2])\n",
    "    for trigram in trigrams:\n",
    "        counts[trigram] = trigrams.count(trigram)\n",
    "\n",
    "    n_tokens = sum(map(len, [new_words, bigrams, trigrams]))\n",
    "    tfidf_values = {}\n",
    "    for token, count in counts.items():\n",
    "        if token in idf:\n",
    "            tf = count / n_tokens\n",
    "            tfidf_values[token] = tf * idf[token]\n",
    "\n",
    "    vector = np.zeros(len(index))\n",
    "    for key, tfidf in tfidf_values.items():\n",
    "        if key in index:\n",
    "            vector[index[key]] = tfidf\n",
    "\n",
    "    return vector"
   ]
  },
  {
   "cell_type": "markdown",
   "metadata": {
    "deletable": false,
    "editable": false
   },
   "source": [
    "Ожидается, что результатом оптимизации будут функции с такими же названиями и такими же аргументами как и у исходных."
   ]
  },
  {
   "cell_type": "code",
   "execution_count": 3,
   "metadata": {
    "ExecuteTime": {
     "end_time": "2019-07-23T16:19:11.228266Z",
     "start_time": "2019-07-23T16:19:11.226291Z"
    }
   },
   "outputs": [],
   "source": [
    "# your code here"
   ]
  },
  {
   "cell_type": "code",
   "execution_count": 4,
   "metadata": {
    "ExecuteTime": {
     "end_time": "2019-07-23T16:19:11.741703Z",
     "start_time": "2019-07-23T16:19:11.230372Z"
    },
    "deletable": false,
    "editable": false
   },
   "outputs": [],
   "source": [
    "from functools import partial\n",
    "\n",
    "token_index, token_idf = build_tfidf_index('train.tsv')\n",
    "\n",
    "build_tfidf = partial(build_tfidf_vector, index=token_index, idf=token_idf)"
   ]
  },
  {
   "cell_type": "markdown",
   "metadata": {
    "deletable": false,
    "editable": false
   },
   "source": [
    "### 2. Работа с `pandas`"
   ]
  },
  {
   "cell_type": "markdown",
   "metadata": {
    "deletable": false,
    "editable": false
   },
   "source": [
    "Задача состоит в том, чтобы переписать ячейку кода с чистым питоном, используя методы `pandas.DataFrame`.\n",
    "\n",
    "В данной ячейке считываются два csv файла: _attributes.csv_ и <i>product_descriptions.csv</i>, их содержимое объединяется по колонке `product_uid`.\n",
    "\n",
    "В результате получается словарь с ключом `product_uid` и значением, в котором находится объединение описания и значений атрибутов товара."
   ]
  },
  {
   "cell_type": "code",
   "execution_count": 5,
   "metadata": {
    "ExecuteTime": {
     "end_time": "2019-07-23T16:19:11.749108Z",
     "start_time": "2019-07-23T16:19:11.744235Z"
    },
    "deletable": false,
    "editable": false
   },
   "outputs": [],
   "source": [
    "from tqdm import tqdm\n",
    "\n",
    "attr_file = 'attributes.csv'\n",
    "pdsc_file = 'product_descriptions.csv'"
   ]
  },
  {
   "cell_type": "code",
   "execution_count": 6,
   "metadata": {
    "ExecuteTime": {
     "end_time": "2019-07-23T16:19:17.983091Z",
     "start_time": "2019-07-23T16:19:11.750500Z"
    },
    "deletable": false,
    "editable": false
   },
   "outputs": [
    {
     "name": "stdout",
     "output_type": "stream",
     "text": [
      "CPU times: user 5.96 s, sys: 256 ms, total: 6.22 s\n",
      "Wall time: 6.22 s\n"
     ]
    }
   ],
   "source": [
    "%%time\n",
    "\n",
    "import csv\n",
    "\n",
    "\n",
    "def read_csv(filename, columns):\n",
    "    with open(filename) as file:\n",
    "        lines = file.readlines()\n",
    "    lines = [l for l in csv.reader(lines)]\n",
    "    header, lines = lines[0], lines[1:]\n",
    "    col_idxs = [header.index(col) for col in columns]\n",
    "    return [[line[c_idx] for c_idx in col_idxs] for line in lines]\n",
    "\n",
    "joint_description = {key: value for key, value in read_csv(pdsc_file, ['product_uid', 'product_description'])}\n",
    "\n",
    "product_attributes = read_csv(attr_file, ['product_uid', 'value'])\n",
    "\n",
    "for product_uid, attr_value in product_attributes:\n",
    "    if product_uid not in joint_description:\n",
    "        joint_description[product_uid] = attr_value\n",
    "    else:\n",
    "        joint_description[product_uid] += ' ' + attr_value"
   ]
  },
  {
   "cell_type": "code",
   "execution_count": 7,
   "metadata": {
    "ExecuteTime": {
     "end_time": "2019-07-23T16:19:17.986556Z",
     "start_time": "2019-07-23T16:19:17.984623Z"
    }
   },
   "outputs": [],
   "source": [
    "# your code here"
   ]
  },
  {
   "cell_type": "markdown",
   "metadata": {
    "deletable": false,
    "editable": false
   },
   "source": [
    "### 3. Ускорение вычислений (знакомство с новыми библиотеками?..)"
   ]
  },
  {
   "cell_type": "markdown",
   "metadata": {
    "deletable": false,
    "editable": false
   },
   "source": [
    "Данное задание возможно самое простое из всех: перепишите процедуру вычисления векторов товаров и запросов с использованием библиотеки [`joblib`](https://joblib.readthedocs.io/en/latest/).\n",
    "\n",
    "Данная библиотека позволяет обойти ограничение питона на выполнение в одном потоке."
   ]
  },
  {
   "cell_type": "code",
   "execution_count": 8,
   "metadata": {
    "ExecuteTime": {
     "end_time": "2019-07-23T16:19:18.209289Z",
     "start_time": "2019-07-23T16:19:17.988243Z"
    },
    "deletable": false,
    "editable": false
   },
   "outputs": [],
   "source": [
    "import pandas as pd\n",
    "\n",
    "searches = pd.read_csv('train.tsv', sep='\\t', usecols=['search_term'])['search_term'].unique()"
   ]
  },
  {
   "cell_type": "code",
   "execution_count": 9,
   "metadata": {
    "ExecuteTime": {
     "end_time": "2019-07-23T16:23:01.721081Z",
     "start_time": "2019-07-23T16:19:18.210389Z"
    },
    "scrolled": true
   },
   "outputs": [
    {
     "name": "stderr",
     "output_type": "stream",
     "text": [
      "Products: 100%|██████████| 124429/124429 [03:43<00:00, 557.14it/s]\n",
      "Searches: 100%|██████████| 11795/11795 [00:00<00:00, 71605.51it/s]\n"
     ]
    }
   ],
   "source": [
    "from itertools import islice\n",
    "import numpy as np\n",
    "\n",
    "product_vectors = np.zeros((len(joint_description), len(token_index)))\n",
    "index_to_product = {}\n",
    "\n",
    "for i, (product_uid, description) in enumerate(tqdm(joint_description.items(), desc='Products')):\n",
    "    index_to_product[i] = product_uid\n",
    "    product_vectors[i] = build_tfidf(description)\n",
    "\n",
    "search_vectors = np.zeros((len(searches), len(token_index)))\n",
    "for i, search in enumerate(tqdm(searches, desc='Searches')):\n",
    "    search_vectors[i] = build_tfidf(search)"
   ]
  },
  {
   "cell_type": "code",
   "execution_count": 10,
   "metadata": {
    "ExecuteTime": {
     "end_time": "2019-07-23T16:23:01.724318Z",
     "start_time": "2019-07-23T16:23:01.722535Z"
    }
   },
   "outputs": [],
   "source": [
    "# your code here"
   ]
  },
  {
   "cell_type": "markdown",
   "metadata": {
    "deletable": false,
    "editable": false
   },
   "source": [
    "### 4. Оптимизация `numpy` кода"
   ]
  },
  {
   "cell_type": "markdown",
   "metadata": {
    "deletable": false,
    "editable": false
   },
   "source": [
    "В данном задании вам предлагается придумать как можно ускорить функцию `get_topk`, написанную с помощью `numpy`.\n",
    "\n",
    "Для этого вы можете использовать все доступные и знакомые вам методы."
   ]
  },
  {
   "cell_type": "code",
   "execution_count": 11,
   "metadata": {
    "ExecuteTime": {
     "end_time": "2019-07-23T16:23:01.744973Z",
     "start_time": "2019-07-23T16:23:01.725660Z"
    },
    "deletable": false,
    "editable": false
   },
   "outputs": [],
   "source": [
    "product_to_index = {pid: idx for idx, pid in index_to_product.items()}\n",
    "\n",
    "def get_relevance(search_idx, candidates):\n",
    "    product_idxs = [product_to_index[pid] for pid in candidates]\n",
    "    return product_vectors[product_idxs] @ search_vectors[search_idx]"
   ]
  },
  {
   "cell_type": "code",
   "execution_count": 12,
   "metadata": {
    "ExecuteTime": {
     "end_time": "2019-07-23T16:23:01.754071Z",
     "start_time": "2019-07-23T16:23:01.746270Z"
    },
    "deletable": false,
    "editable": false
   },
   "outputs": [],
   "source": [
    "def get_topk(queries, products):\n",
    "    topk_idxs = [None,] * queries.shape[0]\n",
    "    for i, seed in tqdm(enumerate(queries), total=queries.shape[0]):\n",
    "        scores = (products @ seed.T)\n",
    "        cur_topk = np.argsort(scores)[-25:][::-1]\n",
    "        topk_idxs[i] = (cur_topk.tolist(), scores[cur_topk].tolist())\n",
    "    return topk_idxs"
   ]
  },
  {
   "cell_type": "code",
   "execution_count": 13,
   "metadata": {
    "ExecuteTime": {
     "end_time": "2019-07-23T16:23:57.791398Z",
     "start_time": "2019-07-23T16:23:01.757841Z"
    },
    "deletable": false,
    "editable": false
   },
   "outputs": [
    {
     "name": "stderr",
     "output_type": "stream",
     "text": [
      "100%|██████████| 400/400 [00:56<00:00,  6.95it/s]"
     ]
    },
    {
     "name": "stdout",
     "output_type": "stream",
     "text": [
      "CPU times: user 5min 7s, sys: 1min 9s, total: 6min 17s\n",
      "Wall time: 56 s\n"
     ]
    },
    {
     "name": "stderr",
     "output_type": "stream",
     "text": [
      "\n"
     ]
    }
   ],
   "source": [
    "%%time\n",
    "\n",
    "topk_prediction = get_topk(search_vectors[:400], product_vectors)"
   ]
  },
  {
   "cell_type": "markdown",
   "metadata": {
    "deletable": false,
    "editable": false
   },
   "source": [
    "Подсказки:\n",
    "* TF-IDF векторы имеют большую размерность, однако бОльшая часть значений в них заполнена нулями;\n",
    "\n",
    "* для выполнения матричных операций `numpy` использует все ядра процессора;\n",
    "\n",
    "* Предыдущими подсказками возможности оптимизации не ограничиваются."
   ]
  },
  {
   "cell_type": "code",
   "execution_count": 14,
   "metadata": {
    "ExecuteTime": {
     "end_time": "2019-07-23T16:23:57.799192Z",
     "start_time": "2019-07-23T16:23:57.795789Z"
    }
   },
   "outputs": [],
   "source": [
    "# your code here"
   ]
  },
  {
   "cell_type": "markdown",
   "metadata": {
    "deletable": false,
    "editable": false
   },
   "source": [
    "---\n",
    "После того как `get_topk` оптимизируется, можно будет предсказать топ-25 товаров для каждого запроса, а не только для первых 400."
   ]
  },
  {
   "cell_type": "code",
   "execution_count": 15,
   "metadata": {
    "ExecuteTime": {
     "end_time": "2019-07-23T16:23:57.808311Z",
     "start_time": "2019-07-23T16:23:57.803483Z"
    }
   },
   "outputs": [],
   "source": [
    "# topk_prediction = get_topk(search_vectors, product_vectors)"
   ]
  },
  {
   "cell_type": "markdown",
   "metadata": {
    "deletable": false,
    "editable": false
   },
   "source": [
    "### 5. Работа с `matplotlib`"
   ]
  },
  {
   "cell_type": "code",
   "execution_count": 16,
   "metadata": {
    "ExecuteTime": {
     "end_time": "2019-07-23T16:23:57.959389Z",
     "start_time": "2019-07-23T16:23:57.809813Z"
    },
    "deletable": false,
    "editable": false
   },
   "outputs": [],
   "source": [
    "from operator import itemgetter as at\n",
    "\n",
    "def read_relevance(filename='train.tsv'):\n",
    "    relevance_dict = {}\n",
    "    with open(filename) as file:\n",
    "        lines = file.readlines()\n",
    "    values = (line.rstrip('\\n').split('\\t') for line in lines)\n",
    "    header = next(values)\n",
    "    getter = at(*map(header.index, ['search_term', 'product_uid', 'relevance']))\n",
    "    for s_term, p_uid, rel in map(getter, values):\n",
    "        relevance_dict[s_term] = relevance_dict.get(s_term, []) + [(p_uid, float(rel))]\n",
    "    return relevance_dict\n",
    "\n",
    "relevance_dict = {s_term: dict(pairs) for s_term, pairs in read_relevance().items()}"
   ]
  },
  {
   "cell_type": "markdown",
   "metadata": {
    "ExecuteTime": {
     "end_time": "2019-07-23T14:26:05.559790Z",
     "start_time": "2019-07-23T14:26:05.548526Z"
    },
    "deletable": false,
    "editable": false
   },
   "source": [
    "В `relevance_dict` содержатся словари `product_uid`: `relevance` для каждого запроса."
   ]
  },
  {
   "cell_type": "code",
   "execution_count": 17,
   "metadata": {
    "ExecuteTime": {
     "end_time": "2019-07-23T16:23:58.068659Z",
     "start_time": "2019-07-23T16:23:57.960534Z"
    },
    "deletable": false,
    "editable": false
   },
   "outputs": [],
   "source": [
    "import matplotlib.pyplot as plt\n",
    "%matplotlib inline"
   ]
  },
  {
   "cell_type": "markdown",
   "metadata": {
    "ExecuteTime": {
     "end_time": "2019-07-23T11:46:50.115412Z",
     "start_time": "2019-07-23T11:46:49.977167Z"
    },
    "deletable": false,
    "editable": false
   },
   "source": [
    "---\n",
    "Используя свои знания `matplotlib` выведите гистограмму количества товаров для каждого из доступных запросов в `relevance_dict`."
   ]
  },
  {
   "cell_type": "code",
   "execution_count": null,
   "metadata": {},
   "outputs": [],
   "source": []
  },
  {
   "cell_type": "markdown",
   "metadata": {
    "deletable": false,
    "editable": false
   },
   "source": [
    "#### <center>Референсный график</center>\n",
    "<img src=\"data:image/png;base64,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\n",
    "\">"
   ]
  },
  {
   "cell_type": "markdown",
   "metadata": {
    "ExecuteTime": {
     "end_time": "2019-07-23T10:55:48.607806Z",
     "start_time": "2019-07-23T10:55:48.366413Z"
    },
    "deletable": false,
    "editable": false
   },
   "source": [
    "---\n",
    "Используя свои знания `matplotlib` выведите гистограмму количества уникальных значений `relevance` для каждого из доступных запросов."
   ]
  },
  {
   "cell_type": "code",
   "execution_count": null,
   "metadata": {
    "ExecuteTime": {
     "end_time": "2019-07-23T10:59:20.965327Z",
     "start_time": "2019-07-23T10:59:20.738167Z"
    }
   },
   "outputs": [],
   "source": []
  },
  {
   "cell_type": "markdown",
   "metadata": {
    "deletable": false,
    "editable": false
   },
   "source": [
    "#### <center>Референсный график</center>\n",
    "<img src=\"data:image/png;base64,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\n",
    "\">"
   ]
  },
  {
   "cell_type": "markdown",
   "metadata": {
    "deletable": false,
    "editable": false
   },
   "source": [
    "### 6. Собственно, машинное обучение"
   ]
  },
  {
   "cell_type": "markdown",
   "metadata": {
    "deletable": false,
    "editable": false
   },
   "source": [
    "В данном пункте необходимо придумать способ улучшить модель (можно отталкиваться от уже написанной, можно придумать что-то своё).\n",
    "\n",
    "_Hint_: Данная модель никаким образом не использует данные о релевантности запросов в обучении, возможно стоит это исправить?\n",
    "\n",
    "**nB!**: До этого разбивать запросы на train-val-test выборки не имело смысла, т.к. при обучении никак не использовались релевантности товаров для данных запросов. Если новая модель будет использовать релевантности товаров, то метрики для сравнения моделей должны быть посчитаны на запросах, истинные ответы к которым ни одна из моделей никогда не видела.\n",
    "\n",
    "---\n",
    "\n",
    "Модели оцениваются по nDCG@25 <sup>[1](#ndcg_url)</sup> в предсказанных товарах, а также по коэффициенту [Tau](https://en.wikipedia.org/wiki/Kendall_rank_correlation_coefficient), через который оценивается корреляция предсказанных и истинных рангов товаров.\n",
    "\n",
    "---\n",
    "<a name=\"ndcg_url\"><sup>1</sup></a> Определение может быть найдено на 29 странице [PDF](https://web.stanford.edu/class/cs276/handouts/lecture8-evaluation_2014-one-per-page.pdf)."
   ]
  },
  {
   "cell_type": "code",
   "execution_count": 18,
   "metadata": {
    "ExecuteTime": {
     "end_time": "2019-07-23T16:23:58.226870Z",
     "start_time": "2019-07-23T16:23:58.070972Z"
    },
    "deletable": false,
    "editable": false
   },
   "outputs": [],
   "source": [
    "from scipy.stats import kendalltau\n",
    "\n",
    "_discounts = np.log(np.arange(100) + 2)\n",
    "def dcg(rel_list, k=25):\n",
    "    k = min(100, k, len(rel_list))\n",
    "    rel_list = np.array(rel_list[:k])\n",
    "    return np.sum(rel_list / _discounts[:k])\n",
    "\n",
    "def ndcg(topk, rel_dict, k=25):\n",
    "    idcg = dcg(sorted(rel_dict.values(), reverse=True), k=k)\n",
    "    if idcg == 0:\n",
    "        return 0\n",
    "    relevances = [rel_dict.get(it, 0) for it in topk]\n",
    "    cur_dcg = dcg(relevances, k=k)\n",
    "    return cur_dcg / idcg"
   ]
  },
  {
   "cell_type": "code",
   "execution_count": 19,
   "metadata": {
    "ExecuteTime": {
     "end_time": "2019-07-23T16:23:58.230788Z",
     "start_time": "2019-07-23T16:23:58.228486Z"
    },
    "deletable": false,
    "editable": false
   },
   "outputs": [],
   "source": [
    "import warnings\n",
    "\n",
    "warnings.filterwarnings('ignore')"
   ]
  },
  {
   "cell_type": "code",
   "execution_count": 20,
   "metadata": {
    "ExecuteTime": {
     "end_time": "2019-07-23T16:23:58.366255Z",
     "start_time": "2019-07-23T16:23:58.232070Z"
    },
    "deletable": false,
    "editable": false
   },
   "outputs": [
    {
     "name": "stderr",
     "output_type": "stream",
     "text": [
      "Evaluating model: 100%|██████████| 400/400 [00:00<00:00, 3148.79it/s]"
     ]
    },
    {
     "name": "stdout",
     "output_type": "stream",
     "text": [
      "Mean nDCG@25: 0.034; mean Tau correlation coefficient: 0.063.\n"
     ]
    },
    {
     "name": "stderr",
     "output_type": "stream",
     "text": [
      "\n"
     ]
    }
   ],
   "source": [
    "ndcg_scores = []\n",
    "tau_scores = []\n",
    "\n",
    "\n",
    "for search_idx, searchterm in enumerate(tqdm(searches[:len(topk_prediction)], desc='Evaluating model')):\n",
    "    prediction_idxs = topk_prediction[search_idx][0]\n",
    "    predicted_products = [index_to_product[idx] for idx in prediction_idxs]\n",
    "    product_relevances = relevance_dict[searchterm]\n",
    "    ndcg_scores += [ndcg(predicted_products, product_relevances)]\n",
    "\n",
    "    products, relevances = zip(*product_relevances.items())\n",
    "    predicted_relevances = get_relevance(search_idx, products)\n",
    "    tau_score = kendalltau(relevances, predicted_relevances).correlation\n",
    "    if tau_score is np.nan:\n",
    "        tau_scores += [0]\n",
    "    else:\n",
    "        tau_scores += [tau_score]\n",
    "\n",
    "print('Mean nDCG@25: %.03f; mean Tau correlation coefficient: %.03f.' % (\n",
    "            sum(ndcg_scores) / len(ndcg_scores), sum(tau_scores) / len(tau_scores)))"
   ]
  },
  {
   "cell_type": "code",
   "execution_count": 21,
   "metadata": {
    "ExecuteTime": {
     "end_time": "2019-07-23T16:23:58.369211Z",
     "start_time": "2019-07-23T16:23:58.367473Z"
    }
   },
   "outputs": [],
   "source": [
    "# your code here"
   ]
  },
  {
   "cell_type": "code",
   "execution_count": null,
   "metadata": {},
   "outputs": [],
   "source": []
  }
 ],
 "metadata": {
  "kernelspec": {
   "display_name": "IPython (Python 3)",
   "language": "python",
   "name": "python3"
  },
  "language_info": {
   "codemirror_mode": {
    "name": "ipython",
    "version": 3
   },
   "file_extension": ".py",
   "mimetype": "text/x-python",
   "name": "python",
   "nbconvert_exporter": "python",
   "pygments_lexer": "ipython3",
   "version": "3.6.7"
  }
 },
 "nbformat": 4,
 "nbformat_minor": 2
}
