{
 "cells": [
  {
   "cell_type": "markdown",
   "metadata": {},
   "source": [
    "# 2. Landing page"
   ]
  },
  {
   "cell_type": "code",
   "execution_count": 4,
   "metadata": {},
   "outputs": [],
   "source": [
    "# ignore warnings\n",
    "import warnings\n",
    "warnings.filterwarnings('ignore')\n",
    "\n",
    "import pandas as pd\n",
    "import numpy as np\n",
    "import matplotlib.pyplot as plt\n",
    "import seaborn as sns\n",
    "plt.rcParams['figure.figsize'] = 12, 8\n",
    "plt.style.use('ggplot')\n",
    "\n",
    "from catboost import CatBoostClassifier, Pool, cv\n",
    "from typing import List\n",
    "from sklearn.model_selection import train_test_split\n",
    "from sklearn.metrics import precision_score, recall_score, roc_auc_score, roc_curve, precision_recall_curve, f1_score, confusion_matrix"
   ]
  },
  {
   "cell_type": "markdown",
   "metadata": {},
   "source": [
    "### Чтение данных"
   ]
  },
  {
   "cell_type": "code",
   "execution_count": 3,
   "metadata": {},
   "outputs": [
    {
     "data": {
      "text/html": [
       "<div>\n",
       "<style scoped>\n",
       "    .dataframe tbody tr th:only-of-type {\n",
       "        vertical-align: middle;\n",
       "    }\n",
       "\n",
       "    .dataframe tbody tr th {\n",
       "        vertical-align: top;\n",
       "    }\n",
       "\n",
       "    .dataframe thead th {\n",
       "        text-align: right;\n",
       "    }\n",
       "</style>\n",
       "<table border=\"1\" class=\"dataframe\">\n",
       "  <thead>\n",
       "    <tr style=\"text-align: right;\">\n",
       "      <th></th>\n",
       "      <th>landing_page</th>\n",
       "      <th>user_id</th>\n",
       "      <th>show_date_time</th>\n",
       "      <th>browser_version</th>\n",
       "      <th>browser</th>\n",
       "      <th>os_name</th>\n",
       "      <th>country</th>\n",
       "    </tr>\n",
       "  </thead>\n",
       "  <tbody>\n",
       "    <tr>\n",
       "      <th>0</th>\n",
       "      <td>lpceuwottvq4</td>\n",
       "      <td>NaN</td>\n",
       "      <td>2015-02-01 00:00:46</td>\n",
       "      <td>39.0.2171.65</td>\n",
       "      <td>Chrome</td>\n",
       "      <td>Windows</td>\n",
       "      <td>CZ</td>\n",
       "    </tr>\n",
       "    <tr>\n",
       "      <th>1</th>\n",
       "      <td>lpceuwottvq4</td>\n",
       "      <td>NaN</td>\n",
       "      <td>2015-02-01 00:04:30</td>\n",
       "      <td>NaN</td>\n",
       "      <td>AndroidBrowser</td>\n",
       "      <td>Linux</td>\n",
       "      <td>DE</td>\n",
       "    </tr>\n",
       "    <tr>\n",
       "      <th>2</th>\n",
       "      <td>lpceuwottvq4</td>\n",
       "      <td>NaN</td>\n",
       "      <td>2015-02-01 00:08:53</td>\n",
       "      <td>11.0</td>\n",
       "      <td>Microsoft Internet Explorer</td>\n",
       "      <td>Windows</td>\n",
       "      <td>GB</td>\n",
       "    </tr>\n",
       "    <tr>\n",
       "      <th>3</th>\n",
       "      <td>lpceuwottvq4</td>\n",
       "      <td>NaN</td>\n",
       "      <td>2015-02-01 00:28:59</td>\n",
       "      <td>40.0.2214.94</td>\n",
       "      <td>Chrome</td>\n",
       "      <td>Windows</td>\n",
       "      <td>PL</td>\n",
       "    </tr>\n",
       "    <tr>\n",
       "      <th>4</th>\n",
       "      <td>lpceuwottvq4</td>\n",
       "      <td>NaN</td>\n",
       "      <td>2015-02-01 00:29:11</td>\n",
       "      <td>11.0</td>\n",
       "      <td>Microsoft Internet Explorer</td>\n",
       "      <td>Windows</td>\n",
       "      <td>FR</td>\n",
       "    </tr>\n",
       "  </tbody>\n",
       "</table>\n",
       "</div>"
      ],
      "text/plain": [
       "   landing_page  user_id      show_date_time browser_version  \\\n",
       "0  lpceuwottvq4      NaN 2015-02-01 00:00:46    39.0.2171.65   \n",
       "1  lpceuwottvq4      NaN 2015-02-01 00:04:30             NaN   \n",
       "2  lpceuwottvq4      NaN 2015-02-01 00:08:53            11.0   \n",
       "3  lpceuwottvq4      NaN 2015-02-01 00:28:59    40.0.2214.94   \n",
       "4  lpceuwottvq4      NaN 2015-02-01 00:29:11            11.0   \n",
       "\n",
       "                       browser  os_name country  \n",
       "0                       Chrome  Windows      CZ  \n",
       "1               AndroidBrowser    Linux      DE  \n",
       "2  Microsoft Internet Explorer  Windows      GB  \n",
       "3                       Chrome  Windows      PL  \n",
       "4  Microsoft Internet Explorer  Windows      FR  "
      ]
     },
     "execution_count": 3,
     "metadata": {},
     "output_type": "execute_result"
    }
   ],
   "source": [
    "dataset = pd.read_excel('Landing Page Data.xlsx')\n",
    "dataset.head()"
   ]
  },
  {
   "cell_type": "markdown",
   "metadata": {},
   "source": [
    "Преобразуем признак `user_id` в бинарный (`registration`): если в поле `user_id` отсутствует информация, это означает, что пользователь в процессе показа лэндинга не зарегистрировался."
   ]
  },
  {
   "cell_type": "code",
   "execution_count": 5,
   "metadata": {},
   "outputs": [],
   "source": [
    "dataset['registration'] = dataset['user_id'].fillna(0).astype('bool').astype('int')\n",
    "dataset.drop(columns=['user_id'], inplace=True)"
   ]
  },
  {
   "cell_type": "code",
   "execution_count": 6,
   "metadata": {},
   "outputs": [
    {
     "name": "stdout",
     "output_type": "stream",
     "text": [
      "<class 'pandas.core.frame.DataFrame'>\n",
      "RangeIndex: 15466 entries, 0 to 15465\n",
      "Data columns (total 7 columns):\n",
      "landing_page       15466 non-null object\n",
      "show_date_time     15466 non-null datetime64[ns]\n",
      "browser_version    14698 non-null object\n",
      "browser            15314 non-null object\n",
      "os_name            15188 non-null object\n",
      "country            15466 non-null object\n",
      "registration       15466 non-null int64\n",
      "dtypes: datetime64[ns](1), int64(1), object(5)\n",
      "memory usage: 845.9+ KB\n"
     ]
    }
   ],
   "source": [
    "dataset.info()"
   ]
  },
  {
   "cell_type": "markdown",
   "metadata": {},
   "source": [
    "### Визуализация"
   ]
  },
  {
   "cell_type": "code",
   "execution_count": 7,
   "metadata": {},
   "outputs": [
    {
     "data": {
      "image/png": "[encoded data removed]",
      "text/plain": [
       "<Figure size 864x576 with 1 Axes>"
      ]
     },
     "metadata": {},
     "output_type": "display_data"
    }
   ],
   "source": [
    "sns.countplot(x=dataset['landing_page'],\n",
    "              hue=dataset['registration']).set_title('Распределение регистраций по landing_page');"
   ]
  },
  {
   "cell_type": "markdown",
   "metadata": {},
   "source": [
    "По ссылке `na-carnival-info-page` за данный период времени никто не зарегистрировался"
   ]
  },
  {
   "cell_type": "code",
   "execution_count": 8,
   "metadata": {},
   "outputs": [
    {
     "data": {
      "image/png": "[encoded data removed]",
      "text/plain": [
       "<Figure size 1080x720 with 1 Axes>"
      ]
     },
     "metadata": {},
     "output_type": "display_data"
    }
   ],
   "source": [
    "plt.figure(figsize=(15, 10))\n",
    "sns.countplot(x=dataset['os_name'],\n",
    "              hue=dataset['registration']).set_title('Распределение регистраций по os_name');"
   ]
  },
  {
   "cell_type": "markdown",
   "metadata": {},
   "source": [
    "Пользователи, пользующиеся оперционными системами `ChromeOS`, `iOS` зарегистрировались всего 1 раз. С `Windows Phone` не было регистраций. Такой показатель может говорить о том, что данные `landing_page` ведут к регистрации в игре `World of Tanks` (а не к игре `World of Tanks Blitz`), которая не поддерживает мобильные устройства. Низкая регистрация на `ChromeOS` может возникать из-за низкой производительности `ChromeBook` и сложностей с установкой игр.\n",
    "\n",
    "Основная масса зарегистрировавшихся пользователей пользуется операционными системами `Windows`, `Linux`, `Macintosh`"
   ]
  },
  {
   "cell_type": "code",
   "execution_count": 9,
   "metadata": {},
   "outputs": [
    {
     "data": {
      "image/png": "[encoded data removed]",
      "text/plain": [
       "<Figure size 1080x1440 with 1 Axes>"
      ]
     },
     "metadata": {},
     "output_type": "display_data"
    }
   ],
   "source": [
    "plt.figure(figsize=(15, 20))\n",
    "sns.countplot(y=dataset['country'],\n",
    "              hue=dataset['registration'],\n",
    "              order=dataset['country'].value_counts().index).set_title('Распределение регистраций по странам');"
   ]
  },
  {
   "cell_type": "markdown",
   "metadata": {},
   "source": [
    "Топ 5 стран по количеству регистраций: `PL`, `FR`, `DE`, `RO`, `FI`"
   ]
  },
  {
   "cell_type": "code",
   "execution_count": 10,
   "metadata": {},
   "outputs": [
    {
     "data": {
      "text/plain": [
       "array(['Chrome', 'AndroidBrowser', 'Microsoft Internet Explorer',\n",
       "       'Firefox', 'GoogleBot', 'Safari', 'Opera', 'ChromeiOS', nan,\n",
       "       'BingBot', 'Opera Mobile', 'NintendoBrowser', 'SeaMonkey'],\n",
       "      dtype=object)"
      ]
     },
     "execution_count": 10,
     "metadata": {},
     "output_type": "execute_result"
    }
   ],
   "source": [
    "dataset['browser'].unique()"
   ]
  },
  {
   "cell_type": "code",
   "execution_count": 11,
   "metadata": {},
   "outputs": [
    {
     "data": {
      "text/plain": [
       "array(['Windows', 'Linux', nan, 'iOS', 'PlayStation', 'Macintosh',\n",
       "       'Windows Phone', 'ChromeOS'], dtype=object)"
      ]
     },
     "execution_count": 11,
     "metadata": {},
     "output_type": "execute_result"
    }
   ],
   "source": [
    "dataset['os_name'].unique()"
   ]
  },
  {
   "cell_type": "markdown",
   "metadata": {},
   "source": [
    "1) В данных присутствуют боты для сканирования веб-страниц (GoogleBot и BingBot), у которых не определяется операционная система. Заменим NaN в `os_name` на `Bot_os`.\n",
    "\n",
    "На платформе PlayStation существует свой браузер, но в данных название браузера отображается, как NaN. Заменим такие значения на `PS_browser`.\n",
    "\n",
    "В данных остались объекты, операционная система и баузер которых не распознались. Заменим значения NaN в таких объектах, как `unknown`.\n",
    "\n",
    "2) Временной признак (`show_date_time`) преобразуем в 2 новых (`weekday` и `hour`).\n",
    "\n",
    "3) Признак `browser_version` не распознается в следующих браузерах: 'AndroidBrowser', 'GoogleBot', 'NintendoBrowser'. Обработаем эти значения, останые заменим на `unknown` версию браузера.\n",
    "\n",
    "4) Удалим дублирующиеся строчки из данных после всех преобразований\n",
    "\n",
    "5) В данных есть всего 3 `landing_page`, но по одной из них не было ни одного зарегистрированного пользователя (`na-carnival-info-page`). Удалим ее из данных."
   ]
  },
  {
   "cell_type": "code",
   "execution_count": 12,
   "metadata": {},
   "outputs": [],
   "source": [
    "def preprocessing(df: pd.DataFrame) -> pd.DataFrame:\n",
    "    \"\"\"\n",
    "    df - raw dataframe\n",
    "    \"\"\"\n",
    "    new_df = df.copy()\n",
    "    new_df = new_df.loc[new_df['landing_page'] != 'na-carnival-info-page', :]\n",
    "    # Generate new features from datetime\n",
    "    new_df['hour'] = new_df['show_date_time'].apply(lambda x: x.hour)\n",
    "    new_df['weekday'] = new_df['show_date_time'].apply(lambda x: x.weekday())\n",
    "    \n",
    "    # Preprocessing\n",
    "    new_df.loc[new_df['os_name'] == 'PlayStation', 'browser'] = 'PS_browser'\n",
    "    new_df.loc[new_df['os_name'] == 'PlayStation', 'browser_version'] = 'PS'\n",
    "    new_df.loc[new_df['browser'] == 'AndroidBrowser', 'browser_version'] = 'Android'\n",
    "    new_df.loc[new_df['browser'] == 'GoogleBot', 'browser_version'] = 'Bot'\n",
    "    \n",
    "    new_df.loc[(new_df['browser'] == 'GoogleBot') | (new_df['browser'] == 'BingBot'), 'os_name'] = 'Bot_os'\n",
    "    new_df.fillna('unknown', inplace=True)\n",
    "    new_df['browser_version'] = new_df['browser_version'].astype('str')\n",
    "    \n",
    "    new_df['browser'] = new_df['browser'] + new_df['browser_version']\n",
    "    new_df.drop(columns=['show_date_time', 'browser_version', #'os_name', 'weekday'#\n",
    "                        ], inplace=True)\n",
    "    new_df.drop_duplicates(inplace=True)\n",
    "    \n",
    "    \n",
    "    return new_df"
   ]
  },
  {
   "cell_type": "code",
   "execution_count": 13,
   "metadata": {},
   "outputs": [
    {
     "data": {
      "text/plain": [
       "(9263, 7)"
      ]
     },
     "execution_count": 13,
     "metadata": {},
     "output_type": "execute_result"
    }
   ],
   "source": [
    "new_df = preprocessing(dataset)\n",
    "new_df.shape"
   ]
  },
  {
   "cell_type": "markdown",
   "metadata": {},
   "source": [
    "## CatBoost"
   ]
  },
  {
   "cell_type": "markdown",
   "metadata": {},
   "source": [
    "Построим первую модель. Формализуем задачу, как задачу классификации. В качестве __target__ выступает столбец `registration`, который показывает, зарегистрировался пользовать или нет. `landing_page` используется, как признак. Если вероятность регистрации по ссылке будет маленькой, то изменим `landing_page` на другую. Будем использовать градиентный бустинг. Из-за большого количества категориальных признаков воспользуемся CatBoost. Т.к. данных мало, проверять качество модели будем с помощью кросс-валидации. В качестве метрики качества воспользуемся ROC-AUC."
   ]
  },
  {
   "cell_type": "code",
   "execution_count": 242,
   "metadata": {},
   "outputs": [
    {
     "data": {
      "text/html": [
       "<div>\n",
       "<style scoped>\n",
       "    .dataframe tbody tr th:only-of-type {\n",
       "        vertical-align: middle;\n",
       "    }\n",
       "\n",
       "    .dataframe tbody tr th {\n",
       "        vertical-align: top;\n",
       "    }\n",
       "\n",
       "    .dataframe thead th {\n",
       "        text-align: right;\n",
       "    }\n",
       "</style>\n",
       "<table border=\"1\" class=\"dataframe\">\n",
       "  <thead>\n",
       "    <tr style=\"text-align: right;\">\n",
       "      <th></th>\n",
       "      <th>iterations</th>\n",
       "      <th>test-AUC-mean</th>\n",
       "      <th>test-AUC-std</th>\n",
       "      <th>test-Logloss-mean</th>\n",
       "      <th>test-Logloss-std</th>\n",
       "      <th>train-Logloss-mean</th>\n",
       "      <th>train-Logloss-std</th>\n",
       "    </tr>\n",
       "  </thead>\n",
       "  <tbody>\n",
       "    <tr>\n",
       "      <th>245</th>\n",
       "      <td>245</td>\n",
       "      <td>0.777531</td>\n",
       "      <td>0.004694</td>\n",
       "      <td>0.393982</td>\n",
       "      <td>0.005394</td>\n",
       "      <td>0.408908</td>\n",
       "      <td>0.002142</td>\n",
       "    </tr>\n",
       "    <tr>\n",
       "      <th>246</th>\n",
       "      <td>246</td>\n",
       "      <td>0.777540</td>\n",
       "      <td>0.004863</td>\n",
       "      <td>0.393970</td>\n",
       "      <td>0.005434</td>\n",
       "      <td>0.408718</td>\n",
       "      <td>0.002033</td>\n",
       "    </tr>\n",
       "    <tr>\n",
       "      <th>247</th>\n",
       "      <td>247</td>\n",
       "      <td>0.777557</td>\n",
       "      <td>0.004855</td>\n",
       "      <td>0.393966</td>\n",
       "      <td>0.005435</td>\n",
       "      <td>0.408653</td>\n",
       "      <td>0.002072</td>\n",
       "    </tr>\n",
       "    <tr>\n",
       "      <th>248</th>\n",
       "      <td>248</td>\n",
       "      <td>0.777969</td>\n",
       "      <td>0.005634</td>\n",
       "      <td>0.393544</td>\n",
       "      <td>0.006080</td>\n",
       "      <td>0.408369</td>\n",
       "      <td>0.001962</td>\n",
       "    </tr>\n",
       "    <tr>\n",
       "      <th>249</th>\n",
       "      <td>249</td>\n",
       "      <td>0.777963</td>\n",
       "      <td>0.005639</td>\n",
       "      <td>0.393548</td>\n",
       "      <td>0.006083</td>\n",
       "      <td>0.408335</td>\n",
       "      <td>0.001927</td>\n",
       "    </tr>\n",
       "  </tbody>\n",
       "</table>\n",
       "</div>"
      ],
      "text/plain": [
       "     iterations  test-AUC-mean  test-AUC-std  test-Logloss-mean  \\\n",
       "245         245       0.777531      0.004694           0.393982   \n",
       "246         246       0.777540      0.004863           0.393970   \n",
       "247         247       0.777557      0.004855           0.393966   \n",
       "248         248       0.777969      0.005634           0.393544   \n",
       "249         249       0.777963      0.005639           0.393548   \n",
       "\n",
       "     test-Logloss-std  train-Logloss-mean  train-Logloss-std  \n",
       "245          0.005394            0.408908           0.002142  \n",
       "246          0.005434            0.408718           0.002033  \n",
       "247          0.005435            0.408653           0.002072  \n",
       "248          0.006080            0.408369           0.001962  \n",
       "249          0.006083            0.408335           0.001927  "
      ]
     },
     "execution_count": 242,
     "metadata": {},
     "output_type": "execute_result"
    }
   ],
   "source": [
    "cat_features = ['landing_page', 'browser', 'os_name', 'country', 'hour', 'weekday']\n",
    "\n",
    "# tmp = new_df\n",
    "cv_dataset = Pool(new_df.drop(columns=['registration']), label=new_df['registration'],\n",
    "                     cat_features=cat_features,\n",
    "                     feature_names=new_df.drop(columns=['registration']).columns.to_list())\n",
    "\n",
    "params = {'iterations': 250,\n",
    "              'learning_rate': 0.03,\n",
    "              'cat_features': cat_features,\n",
    "              'loss_function': 'Logloss',\n",
    "              'eval_metric': 'AUC',\n",
    "              'verbose': False,\n",
    "              'od_type': 'IncToDec',\n",
    "             }\n",
    "\n",
    "scores = cv(cv_dataset,\n",
    "            params=params,\n",
    "            fold_count=3, \n",
    "            stratified=True)\n",
    "scores.tail()"
   ]
  },
  {
   "cell_type": "markdown",
   "metadata": {},
   "source": [
    "Такая модель показывает хороший результат по метрике ROC-AUC, однако полнота у такой модели низкая:\n",
    "\n",
    "* AUC: ~0.78\n",
    "* Recall: ~0.3\n",
    "* Precision: ~0.9"
   ]
  },
  {
   "cell_type": "markdown",
   "metadata": {},
   "source": [
    "Посмотрим на значимость признаков. С помощью нижеописанной функции будем перемешивать значения признаков на объектах и измерять качество с помощью модели."
   ]
  },
  {
   "cell_type": "code",
   "execution_count": 120,
   "metadata": {},
   "outputs": [],
   "source": [
    "def shuffle(df: pd.DataFrame, column: str, n: int = 1, axis: int = 0) -> pd.DataFrame:\n",
    "    df = df.copy()\n",
    "    feature_val = df[column].to_list()\n",
    "    for _ in range(n):\n",
    "        np.random.shuffle(feature_val)\n",
    "    df[column] = feature_val\n",
    "    return df\n",
    "\n",
    "permut_df = shuffle(new_df, 'hour')"
   ]
  },
  {
   "cell_type": "code",
   "execution_count": 130,
   "metadata": {},
   "outputs": [
    {
     "name": "stdout",
     "output_type": "stream",
     "text": [
      "ROC-AUC = 0.7791615337234369\n",
      "Recall = 0.5661764705882353\n",
      "Precision = 0.9625\n",
      "(1724, 4)\n"
     ]
    },
    {
     "data": {
      "text/html": [
       "<div>\n",
       "<style scoped>\n",
       "    .dataframe tbody tr th:only-of-type {\n",
       "        vertical-align: middle;\n",
       "    }\n",
       "\n",
       "    .dataframe tbody tr th {\n",
       "        vertical-align: top;\n",
       "    }\n",
       "\n",
       "    .dataframe thead th {\n",
       "        text-align: right;\n",
       "    }\n",
       "</style>\n",
       "<table border=\"1\" class=\"dataframe\">\n",
       "  <thead>\n",
       "    <tr style=\"text-align: right;\">\n",
       "      <th></th>\n",
       "      <th>Feature Id</th>\n",
       "      <th>Importances</th>\n",
       "    </tr>\n",
       "  </thead>\n",
       "  <tbody>\n",
       "    <tr>\n",
       "      <th>0</th>\n",
       "      <td>browser</td>\n",
       "      <td>46.846311</td>\n",
       "    </tr>\n",
       "    <tr>\n",
       "      <th>1</th>\n",
       "      <td>country</td>\n",
       "      <td>46.025861</td>\n",
       "    </tr>\n",
       "    <tr>\n",
       "      <th>2</th>\n",
       "      <td>landing_page</td>\n",
       "      <td>7.127828</td>\n",
       "    </tr>\n",
       "  </tbody>\n",
       "</table>\n",
       "</div>"
      ],
      "text/plain": [
       "     Feature Id  Importances\n",
       "0       browser    46.846311\n",
       "1       country    46.025861\n",
       "2  landing_page     7.127828"
      ]
     },
     "metadata": {},
     "output_type": "display_data"
    }
   ],
   "source": [
    "cat_features = ['landing_page', 'browser', 'country']\n",
    "\n",
    "tmp = new_df.drop(columns=['os_name', 'weekday', 'hour']).drop_duplicates()\n",
    "X_train, X_test, y_train, y_test = train_test_split(tmp.drop(columns=['registration']),\n",
    "                                                        tmp['registration'], stratify=tmp['registration'],\n",
    "                                                        train_size=0.7)\n",
    "    \n",
    "train_data = Pool(X_train, label=y_train,\n",
    "                  cat_features=cat_features,\n",
    "                  feature_names=X_train.columns.to_list())\n",
    "\n",
    "valid_data = Pool(X_test, label=y_test,\n",
    "                  cat_features=cat_features,\n",
    "                  feature_names=X_test.columns.to_list())\n",
    "\n",
    "\n",
    "params = {'iterations': 250,\n",
    "              'learning_rate': 0.03,\n",
    "              'cat_features': cat_features,\n",
    "              'loss_function': 'Logloss',\n",
    "              'eval_metric': 'AUC',\n",
    "              'verbose': False,\n",
    "              'od_type': 'IncToDec',\n",
    "             }\n",
    "\n",
    "cbt_model1 = CatBoostClassifier(**params)\n",
    "cbt_model1.fit(train_data, eval_set=valid_data, use_best_model=True)\n",
    "y_pred = cbt_model1.predict(X_test)\n",
    "print(f'ROC-AUC = {roc_auc_score(y_test, y_pred)}')\n",
    "print(f'Recall = {recall_score(y_test, y_pred)}')\n",
    "print(f'Precision = {precision_score(y_test, y_pred)}')\n",
    "print(tmp.shape)\n",
    "\n",
    "display(cbt_model1.get_feature_importance(prettified=True))"
   ]
  },
  {
   "cell_type": "markdown",
   "metadata": {},
   "source": [
    "Функция `shuffle` запускалась для каждого признака и был получен следующий результат.\n",
    "С помощью функции `shuffle` были выделены следующие важные признаки:\n",
    "* country\n",
    "* browser\n",
    "\n",
    "`os_name` при перемешивании значений никак не влиял на качество модели, что говорит о том, что данный признак для данной задачи является шумом. Остальные признаки слабо влияют на качество модели."
   ]
  },
  {
   "cell_type": "markdown",
   "metadata": {},
   "source": [
    "Т.к. нам нужно предсказывать вероятность регистрации через `landing page`, построим 2 модели: первая будет предсказывать вероятность регистрации по ссылке __lpceuwottvq4__, вторая по ссылке __woteutvsupport__."
   ]
  },
  {
   "cell_type": "markdown",
   "metadata": {},
   "source": [
    "### Модель для lpceuwottvq4"
   ]
  },
  {
   "cell_type": "code",
   "execution_count": 235,
   "metadata": {},
   "outputs": [
    {
     "name": "stdout",
     "output_type": "stream",
     "text": [
      "0.7962962962962963\n",
      "1.0\n",
      "0.5925925925925926\n"
     ]
    }
   ],
   "source": [
    "cat_features = ['browser',\n",
    "                'country',\n",
    "               ]\n",
    "\n",
    "land_page1_df = new_df[new_df['landing_page'] == 'lpceuwottvq4']\n",
    "land_page1_df.drop(columns=['os_name', 'landing_page', 'weekday', 'hour'], inplace=True)\n",
    "land_page1_df.drop_duplicates(inplace=True)\n",
    "\n",
    "X_train, X_test, y_train, y_test = train_test_split(land_page1_df.drop(columns=['registration']),\n",
    "                                                    land_page1_df['registration'],\n",
    "                                                    stratify=land_page1_df['registration'],\n",
    "                                                    train_size=0.7)\n",
    "    \n",
    "train_data = Pool(X_train, label=y_train,\n",
    "                  cat_features=cat_features,\n",
    "                  feature_names=X_train.columns.to_list())\n",
    "\n",
    "valid_data = Pool(X_test, label=y_test,\n",
    "                  cat_features=cat_features,\n",
    "                  feature_names=X_test.columns.to_list())\n",
    "\n",
    "\n",
    "params = {'iterations': 200,\n",
    "              'learning_rate': 0.01,\n",
    "              'cat_features': cat_features,\n",
    "              'loss_function': 'Logloss',\n",
    "              'eval_metric': 'AUC',\n",
    "              'verbose': False,\n",
    "              'od_type': 'IncToDec',\n",
    "             }\n",
    "\n",
    "cbt_model1 = CatBoostClassifier(**params)\n",
    "cbt_model1.fit(train_data, eval_set=valid_data, use_best_model=True)\n",
    "y_pred = cbt_model1.predict(X_test)\n",
    "print(roc_auc_score(y_test, y_pred))\n",
    "print(precision_score(y_test, y_pred))\n",
    "print(recall_score(y_test, y_pred))"
   ]
  },
  {
   "cell_type": "markdown",
   "metadata": {},
   "source": [
    "### Модель для woteutvsupport"
   ]
  },
  {
   "cell_type": "code",
   "execution_count": 238,
   "metadata": {},
   "outputs": [
    {
     "name": "stdout",
     "output_type": "stream",
     "text": [
      "0.7962962962962963\n",
      "1.0\n",
      "0.5925925925925926\n"
     ]
    }
   ],
   "source": [
    "cat_features = ['browser',\n",
    "                'country',\n",
    "               ]\n",
    "\n",
    "land_page2_df = new_df[new_df['landing_page'] == 'woteutvsupport']\n",
    "land_page2_df.drop(columns=['os_name', 'landing_page', 'weekday', 'hour'], inplace=True)\n",
    "land_page2_df.drop_duplicates(inplace=True)\n",
    "\n",
    "X_train, X_test, y_train, y_test = train_test_split(land_page2_df.drop(columns=['registration']),\n",
    "                                                    land_page2_df['registration'],\n",
    "                                                    stratify=land_page2_df['registration'],\n",
    "                                                    train_size=0.7)\n",
    "    \n",
    "train_data = Pool(X_train, label=y_train,\n",
    "                  cat_features=cat_features,\n",
    "                  feature_names=X_train.columns.to_list())\n",
    "\n",
    "valid_data = Pool(X_test, label=y_test,\n",
    "                  cat_features=cat_features,\n",
    "                  feature_names=X_test.columns.to_list())\n",
    "\n",
    "\n",
    "params = {'iterations': 200,\n",
    "              'learning_rate': 0.01,\n",
    "              'cat_features': cat_features,\n",
    "              'loss_function': 'Logloss',\n",
    "              'eval_metric': 'AUC',\n",
    "              'verbose': False,\n",
    "              'od_type': 'IncToDec',\n",
    "             }\n",
    "\n",
    "cbt_model2 = CatBoostClassifier(**params)\n",
    "cbt_model2.fit(train_data, eval_set=valid_data, use_best_model=True)\n",
    "y_pred = cbt_model2.predict(X_test)\n",
    "print(roc_auc_score(y_test, y_pred))\n",
    "print(precision_score(y_test, y_pred))\n",
    "print(recall_score(y_test, y_pred))"
   ]
  },
  {
   "cell_type": "markdown",
   "metadata": {},
   "source": [
    "Проверка моделей на переобученность"
   ]
  },
  {
   "cell_type": "code",
   "execution_count": 230,
   "metadata": {},
   "outputs": [
    {
     "data": {
      "text/html": [
       "<div>\n",
       "<style scoped>\n",
       "    .dataframe tbody tr th:only-of-type {\n",
       "        vertical-align: middle;\n",
       "    }\n",
       "\n",
       "    .dataframe tbody tr th {\n",
       "        vertical-align: top;\n",
       "    }\n",
       "\n",
       "    .dataframe thead th {\n",
       "        text-align: right;\n",
       "    }\n",
       "</style>\n",
       "<table border=\"1\" class=\"dataframe\">\n",
       "  <thead>\n",
       "    <tr style=\"text-align: right;\">\n",
       "      <th></th>\n",
       "      <th>iterations</th>\n",
       "      <th>test-AUC-mean</th>\n",
       "      <th>test-AUC-std</th>\n",
       "      <th>test-Logloss-mean</th>\n",
       "      <th>test-Logloss-std</th>\n",
       "      <th>train-Logloss-mean</th>\n",
       "      <th>train-Logloss-std</th>\n",
       "    </tr>\n",
       "  </thead>\n",
       "  <tbody>\n",
       "    <tr>\n",
       "      <th>245</th>\n",
       "      <td>245</td>\n",
       "      <td>0.847294</td>\n",
       "      <td>0.042439</td>\n",
       "      <td>0.379326</td>\n",
       "      <td>0.029983</td>\n",
       "      <td>0.406409</td>\n",
       "      <td>0.018538</td>\n",
       "    </tr>\n",
       "    <tr>\n",
       "      <th>246</th>\n",
       "      <td>246</td>\n",
       "      <td>0.847286</td>\n",
       "      <td>0.042450</td>\n",
       "      <td>0.379302</td>\n",
       "      <td>0.029990</td>\n",
       "      <td>0.406318</td>\n",
       "      <td>0.018596</td>\n",
       "    </tr>\n",
       "    <tr>\n",
       "      <th>247</th>\n",
       "      <td>247</td>\n",
       "      <td>0.847019</td>\n",
       "      <td>0.042342</td>\n",
       "      <td>0.379246</td>\n",
       "      <td>0.030093</td>\n",
       "      <td>0.406167</td>\n",
       "      <td>0.018575</td>\n",
       "    </tr>\n",
       "    <tr>\n",
       "      <th>248</th>\n",
       "      <td>248</td>\n",
       "      <td>0.846953</td>\n",
       "      <td>0.042365</td>\n",
       "      <td>0.379242</td>\n",
       "      <td>0.030133</td>\n",
       "      <td>0.405756</td>\n",
       "      <td>0.018571</td>\n",
       "    </tr>\n",
       "    <tr>\n",
       "      <th>249</th>\n",
       "      <td>249</td>\n",
       "      <td>0.846795</td>\n",
       "      <td>0.042261</td>\n",
       "      <td>0.379144</td>\n",
       "      <td>0.030275</td>\n",
       "      <td>0.405599</td>\n",
       "      <td>0.018327</td>\n",
       "    </tr>\n",
       "  </tbody>\n",
       "</table>\n",
       "</div>"
      ],
      "text/plain": [
       "     iterations  test-AUC-mean  test-AUC-std  test-Logloss-mean  \\\n",
       "245         245       0.847294      0.042439           0.379326   \n",
       "246         246       0.847286      0.042450           0.379302   \n",
       "247         247       0.847019      0.042342           0.379246   \n",
       "248         248       0.846953      0.042365           0.379242   \n",
       "249         249       0.846795      0.042261           0.379144   \n",
       "\n",
       "     test-Logloss-std  train-Logloss-mean  train-Logloss-std  \n",
       "245          0.029983            0.406409           0.018538  \n",
       "246          0.029990            0.406318           0.018596  \n",
       "247          0.030093            0.406167           0.018575  \n",
       "248          0.030133            0.405756           0.018571  \n",
       "249          0.030275            0.405599           0.018327  "
      ]
     },
     "metadata": {},
     "output_type": "display_data"
    },
    {
     "data": {
      "text/html": [
       "<div>\n",
       "<style scoped>\n",
       "    .dataframe tbody tr th:only-of-type {\n",
       "        vertical-align: middle;\n",
       "    }\n",
       "\n",
       "    .dataframe tbody tr th {\n",
       "        vertical-align: top;\n",
       "    }\n",
       "\n",
       "    .dataframe thead th {\n",
       "        text-align: right;\n",
       "    }\n",
       "</style>\n",
       "<table border=\"1\" class=\"dataframe\">\n",
       "  <thead>\n",
       "    <tr style=\"text-align: right;\">\n",
       "      <th></th>\n",
       "      <th>iterations</th>\n",
       "      <th>test-AUC-mean</th>\n",
       "      <th>test-AUC-std</th>\n",
       "      <th>test-Logloss-mean</th>\n",
       "      <th>test-Logloss-std</th>\n",
       "      <th>train-Logloss-mean</th>\n",
       "      <th>train-Logloss-std</th>\n",
       "    </tr>\n",
       "  </thead>\n",
       "  <tbody>\n",
       "    <tr>\n",
       "      <th>245</th>\n",
       "      <td>245</td>\n",
       "      <td>0.779913</td>\n",
       "      <td>0.041232</td>\n",
       "      <td>0.404797</td>\n",
       "      <td>0.016147</td>\n",
       "      <td>0.376566</td>\n",
       "      <td>0.045673</td>\n",
       "    </tr>\n",
       "    <tr>\n",
       "      <th>246</th>\n",
       "      <td>246</td>\n",
       "      <td>0.780385</td>\n",
       "      <td>0.042150</td>\n",
       "      <td>0.404790</td>\n",
       "      <td>0.016172</td>\n",
       "      <td>0.376164</td>\n",
       "      <td>0.045922</td>\n",
       "    </tr>\n",
       "    <tr>\n",
       "      <th>247</th>\n",
       "      <td>247</td>\n",
       "      <td>0.780866</td>\n",
       "      <td>0.042202</td>\n",
       "      <td>0.404922</td>\n",
       "      <td>0.015890</td>\n",
       "      <td>0.375654</td>\n",
       "      <td>0.046311</td>\n",
       "    </tr>\n",
       "    <tr>\n",
       "      <th>248</th>\n",
       "      <td>248</td>\n",
       "      <td>0.780869</td>\n",
       "      <td>0.040993</td>\n",
       "      <td>0.404639</td>\n",
       "      <td>0.015719</td>\n",
       "      <td>0.375379</td>\n",
       "      <td>0.046301</td>\n",
       "    </tr>\n",
       "    <tr>\n",
       "      <th>249</th>\n",
       "      <td>249</td>\n",
       "      <td>0.778079</td>\n",
       "      <td>0.041585</td>\n",
       "      <td>0.404588</td>\n",
       "      <td>0.015500</td>\n",
       "      <td>0.375009</td>\n",
       "      <td>0.046313</td>\n",
       "    </tr>\n",
       "  </tbody>\n",
       "</table>\n",
       "</div>"
      ],
      "text/plain": [
       "     iterations  test-AUC-mean  test-AUC-std  test-Logloss-mean  \\\n",
       "245         245       0.779913      0.041232           0.404797   \n",
       "246         246       0.780385      0.042150           0.404790   \n",
       "247         247       0.780866      0.042202           0.404922   \n",
       "248         248       0.780869      0.040993           0.404639   \n",
       "249         249       0.778079      0.041585           0.404588   \n",
       "\n",
       "     test-Logloss-std  train-Logloss-mean  train-Logloss-std  \n",
       "245          0.016147            0.376566           0.045673  \n",
       "246          0.016172            0.376164           0.045922  \n",
       "247          0.015890            0.375654           0.046311  \n",
       "248          0.015719            0.375379           0.046301  \n",
       "249          0.015500            0.375009           0.046313  "
      ]
     },
     "metadata": {},
     "output_type": "display_data"
    }
   ],
   "source": [
    "cat_features = ['browser', 'country']\n",
    "scores = []\n",
    "for landing_page in new_df['landing_page'].unique():\n",
    "    landing_df = new_df[new_df['landing_page'] == landing_page]\n",
    "    landing_df.drop(columns=['os_name', 'landing_page', 'weekday', 'hour'], inplace=True)\n",
    "    landing_df.drop_duplicates(inplace=True)\n",
    "#     landing_df.drop_duplicates(inplace=True)\n",
    "    params = {'iterations': 250,\n",
    "              'learning_rate': 0.01,\n",
    "              'cat_features': cat_features,\n",
    "              'loss_function': 'Logloss',\n",
    "              'eval_metric': 'AUC',\n",
    "              'verbose': False,\n",
    "              'od_type': 'IncToDec',\n",
    "             }\n",
    "    \n",
    "    cv_dataset = Pool(landing_df.drop(columns=['registration']), label=landing_df['registration'],\n",
    "                     cat_features=cat_features,\n",
    "                     feature_names=landing_df.drop(columns=['registration']).columns.to_list())\n",
    "    \n",
    "    scores.append(cv(cv_dataset,\n",
    "            params=params,\n",
    "            fold_count=3, \n",
    "            stratified=True))\n",
    "    display(scores[-1].tail())"
   ]
  },
  {
   "cell_type": "code",
   "execution_count": 231,
   "metadata": {},
   "outputs": [
    {
     "data": {
      "image/png": "[encoded data removed]",
      "text/plain": [
       "<Figure size 864x576 with 1 Axes>"
      ]
     },
     "metadata": {},
     "output_type": "display_data"
    }
   ],
   "source": [
    "sns.lineplot(x=scores[0].index, y=scores[0]['train-Logloss-mean'], label='train');\n",
    "sns.lineplot(x=scores[0].index, y=scores[0]['test-Logloss-mean'], label='test').set_title('Изменение logloss от количества итераций (lpceuwottvq4)');"
   ]
  },
  {
   "cell_type": "code",
   "execution_count": 232,
   "metadata": {},
   "outputs": [
    {
     "data": {
      "image/png": "[encoded data removed]",
      "text/plain": [
       "<Figure size 864x576 with 1 Axes>"
      ]
     },
     "metadata": {},
     "output_type": "display_data"
    }
   ],
   "source": [
    "sns.lineplot(x=scores[1].index, y=scores[1]['train-Logloss-mean'], label='train');\n",
    "sns.lineplot(x=scores[1].index, y=scores[1]['test-Logloss-mean'], label='test').set_title('Изменение logloss от количества итераций (woteutvsupport)');"
   ]
  },
  {
   "cell_type": "markdown",
   "metadata": {},
   "source": [
    "Идея была следущая:\n",
    "имеем две модели, которые могут могут предсказывать вероятность регистрации через соответствующую ссылку. Подавая на вход этим моделям новые данные, мы будем знать вероятность регистрации через каждую ссылку. Если вероятность для одной из ссылок высокая, то показываем ее пользователю. Если вероятность для обоих ссылок плохая, то показываем третью (`na-carnival-info-page`).\n",
    "Но т.к. Recall обоих моделей имеет низкое среднее значение и большое отклонение, то в случае с низкой вероятностью регистрации пользователя имеет смысл показывать любую из трёх ссылок.\n"
   ]
  },
  {
   "cell_type": "markdown",
   "metadata": {},
   "source": [
    "Прототип функции, предсказывающей вероятность регистрации"
   ]
  },
  {
   "cell_type": "code",
   "execution_count": 241,
   "metadata": {},
   "outputs": [],
   "source": [
    "def predict(df: pd.DataFrame) -> pd.DataFrame:\n",
    "    \n",
    "    # preprocessing\n",
    "    df.loc[new_df['browser'] == 'AndroidBrowser', 'browser_version'] = 'Android'\n",
    "    df.loc[new_df['browser'] == 'GoogleBot', 'browser_version'] = 'Bot'\n",
    "    df.loc[(new_df['browser'] == 'GoogleBot') | (df['browser'] == 'BingBot'), 'os_name'] = 'Bot_os'\n",
    "    df.fillna('unknown', inplace=True)\n",
    "    df['browser_version'] = df['browser_version'].astype('str')\n",
    "    \n",
    "    df.drop(columns=['show_date_time', 'browser_version', 'os_name', 'landing_page'],\n",
    "            inplace=True)\n",
    "    \n",
    "    # prediction\n",
    "    y_pred1 = ctb_model1.predict_broba(df)[:, 1]\n",
    "    y_pred2 = ctb_model2.predict_broba(df)[:, 1]\n",
    "    return pd.DataFrame(data={'lpceuwottvq4': y_pred1, 'woteutvsupport': y_pred2})"
   ]
  },
  {
   "cell_type": "markdown",
   "metadata": {},
   "source": [
    "С другой стороны, отбросив нерепрезентативные признаки, а затем убрав дубликаты из dataset'а, осталось слишком маленькое количество данных. К тому же стандартное отклонение метрик качества имеет высокие значения (~0.05), что делает модель неустойчивой.\n",
    "\n",
    "Т.к. модель неусточивая, то пользоваться ей не стоит. Что может улучшить качество и сделать модель стабильнее: 1) больший объем данных, 2) новые репрезентативные признаки (например, описание самого лендинга), 3) новая модель."
   ]
  },
  {
   "cell_type": "code",
   "execution_count": null,
   "metadata": {},
   "outputs": [],
   "source": []
  }
 ],
 "metadata": {
  "kernelspec": {
   "display_name": "Python 3",
   "language": "python",
   "name": "python3"
  },
  "language_info": {
   "codemirror_mode": {
    "name": "ipython",
    "version": 3
   },
   "file_extension": ".py",
   "mimetype": "text/x-python",
   "name": "python",
   "nbconvert_exporter": "python",
   "pygments_lexer": "ipython3",
   "version": "3.7.4"
  }
 },
 "nbformat": 4,
 "nbformat_minor": 2
}
