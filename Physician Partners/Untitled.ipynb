{
 "cells": [
  {
   "cell_type": "code",
   "execution_count": 15,
   "metadata": {},
   "outputs": [],
   "source": [
    "import pandas as pd\n",
    "import matplotlib.pyplot as plt\n",
    "import seaborn as sns\n",
    "\n",
    "%matplotlib inline"
   ]
  },
  {
   "cell_type": "code",
   "execution_count": 2,
   "metadata": {},
   "outputs": [],
   "source": [
    "df = pd.read_csv('sfr_test.csv')"
   ]
  },
  {
   "cell_type": "code",
   "execution_count": 3,
   "metadata": {},
   "outputs": [
    {
     "data": {
      "text/html": [
       "<div>\n",
       "<style scoped>\n",
       "    .dataframe tbody tr th:only-of-type {\n",
       "        vertical-align: middle;\n",
       "    }\n",
       "\n",
       "    .dataframe tbody tr th {\n",
       "        vertical-align: top;\n",
       "    }\n",
       "\n",
       "    .dataframe thead th {\n",
       "        text-align: right;\n",
       "    }\n",
       "</style>\n",
       "<table border=\"1\" class=\"dataframe\">\n",
       "  <thead>\n",
       "    <tr style=\"text-align: right;\">\n",
       "      <th></th>\n",
       "      <th>member_unique_id</th>\n",
       "      <th>gender</th>\n",
       "      <th>dob</th>\n",
       "      <th>eligible_year</th>\n",
       "      <th>eligible_month</th>\n",
       "      <th>affiliation_type</th>\n",
       "      <th>pbp_group</th>\n",
       "      <th>plan_name</th>\n",
       "      <th>npi</th>\n",
       "      <th>line_of_business</th>\n",
       "      <th>...</th>\n",
       "      <th>pcp_ffs</th>\n",
       "      <th>plan_premium</th>\n",
       "      <th>prof</th>\n",
       "      <th>reinsurance</th>\n",
       "      <th>risk_score_partd</th>\n",
       "      <th>rx</th>\n",
       "      <th>rx_rebates</th>\n",
       "      <th>rx_with_rebates</th>\n",
       "      <th>rx_without_rebates</th>\n",
       "      <th>spec_cap</th>\n",
       "    </tr>\n",
       "  </thead>\n",
       "  <tbody>\n",
       "    <tr>\n",
       "      <th>0</th>\n",
       "      <td>1</td>\n",
       "      <td>F</td>\n",
       "      <td>21/06/1990</td>\n",
       "      <td>2020</td>\n",
       "      <td>202006</td>\n",
       "      <td>Affiliate</td>\n",
       "      <td>NON-SNP</td>\n",
       "      <td>MEDICARE - CAREFREE</td>\n",
       "      <td>1</td>\n",
       "      <td>HMO</td>\n",
       "      <td>...</td>\n",
       "      <td>$0.00</td>\n",
       "      <td>$3,507.00</td>\n",
       "      <td>$0.00</td>\n",
       "      <td>$7.92</td>\n",
       "      <td>$0.00</td>\n",
       "      <td>$0.00</td>\n",
       "      <td>$0.00</td>\n",
       "      <td>$0.00</td>\n",
       "      <td>$0.00</td>\n",
       "      <td>$843.78</td>\n",
       "    </tr>\n",
       "    <tr>\n",
       "      <th>1</th>\n",
       "      <td>2</td>\n",
       "      <td>M</td>\n",
       "      <td>02/01/1948</td>\n",
       "      <td>2020</td>\n",
       "      <td>202006</td>\n",
       "      <td>Affiliate</td>\n",
       "      <td>NON-SNP</td>\n",
       "      <td>NaN</td>\n",
       "      <td>1</td>\n",
       "      <td>HMO</td>\n",
       "      <td>...</td>\n",
       "      <td>$0.00</td>\n",
       "      <td>$6,204.84</td>\n",
       "      <td>$0.00</td>\n",
       "      <td>$8.13</td>\n",
       "      <td>$0.00</td>\n",
       "      <td>$11,289.69</td>\n",
       "      <td>$0.00</td>\n",
       "      <td>$10,688.46</td>\n",
       "      <td>$10,859.82</td>\n",
       "      <td>$906.77</td>\n",
       "    </tr>\n",
       "    <tr>\n",
       "      <th>2</th>\n",
       "      <td>3</td>\n",
       "      <td>M</td>\n",
       "      <td>14/06/1948</td>\n",
       "      <td>2020</td>\n",
       "      <td>202006</td>\n",
       "      <td>Affiliate</td>\n",
       "      <td>NON-SNP</td>\n",
       "      <td>MEDICARE - CAREFREE</td>\n",
       "      <td>1</td>\n",
       "      <td>HMO</td>\n",
       "      <td>...</td>\n",
       "      <td>$0.00</td>\n",
       "      <td>$4,012.46</td>\n",
       "      <td>$0.00</td>\n",
       "      <td>$7.92</td>\n",
       "      <td>$0.00</td>\n",
       "      <td>$0.00</td>\n",
       "      <td>$0.00</td>\n",
       "      <td>$0.00</td>\n",
       "      <td>$0.00</td>\n",
       "      <td>$815.84</td>\n",
       "    </tr>\n",
       "    <tr>\n",
       "      <th>3</th>\n",
       "      <td>4</td>\n",
       "      <td>M</td>\n",
       "      <td>10/02/1954</td>\n",
       "      <td>2020</td>\n",
       "      <td>202006</td>\n",
       "      <td>Affiliate</td>\n",
       "      <td>D-SNP</td>\n",
       "      <td>MEDICARE - CARENEEDS</td>\n",
       "      <td>1</td>\n",
       "      <td>HMO</td>\n",
       "      <td>...</td>\n",
       "      <td>$0.00</td>\n",
       "      <td>$9,770.61</td>\n",
       "      <td>$0.00</td>\n",
       "      <td>$8.30</td>\n",
       "      <td>$0.00</td>\n",
       "      <td>$73.88</td>\n",
       "      <td>$0.00</td>\n",
       "      <td>$62.87</td>\n",
       "      <td>$64.91</td>\n",
       "      <td>$846.26</td>\n",
       "    </tr>\n",
       "    <tr>\n",
       "      <th>4</th>\n",
       "      <td>5</td>\n",
       "      <td>M</td>\n",
       "      <td>31/12/1953</td>\n",
       "      <td>2020</td>\n",
       "      <td>202006</td>\n",
       "      <td>Affiliate</td>\n",
       "      <td>NON-SNP</td>\n",
       "      <td>NaN</td>\n",
       "      <td>1</td>\n",
       "      <td>HMO</td>\n",
       "      <td>...</td>\n",
       "      <td>$0.00</td>\n",
       "      <td>$19,976.13</td>\n",
       "      <td>$8,875.80</td>\n",
       "      <td>$8.90</td>\n",
       "      <td>$0.00</td>\n",
       "      <td>$522.48</td>\n",
       "      <td>$0.00</td>\n",
       "      <td>$517.56</td>\n",
       "      <td>$606.01</td>\n",
       "      <td>$867.55</td>\n",
       "    </tr>\n",
       "  </tbody>\n",
       "</table>\n",
       "<p>5 rows × 28 columns</p>\n",
       "</div>"
      ],
      "text/plain": [
       "   member_unique_id gender         dob  eligible_year  eligible_month  \\\n",
       "0                 1      F  21/06/1990           2020          202006   \n",
       "1                 2      M  02/01/1948           2020          202006   \n",
       "2                 3      M  14/06/1948           2020          202006   \n",
       "3                 4      M  10/02/1954           2020          202006   \n",
       "4                 5      M  31/12/1953           2020          202006   \n",
       "\n",
       "  affiliation_type pbp_group             plan_name  npi line_of_business  ...  \\\n",
       "0        Affiliate   NON-SNP   MEDICARE - CAREFREE    1              HMO  ...   \n",
       "1        Affiliate   NON-SNP                   NaN    1              HMO  ...   \n",
       "2        Affiliate   NON-SNP   MEDICARE - CAREFREE    1              HMO  ...   \n",
       "3        Affiliate     D-SNP  MEDICARE - CARENEEDS    1              HMO  ...   \n",
       "4        Affiliate   NON-SNP                   NaN    1              HMO  ...   \n",
       "\n",
       "   pcp_ffs  plan_premium       prof reinsurance risk_score_partd          rx  \\\n",
       "0    $0.00     $3,507.00      $0.00       $7.92            $0.00       $0.00   \n",
       "1    $0.00     $6,204.84      $0.00       $8.13            $0.00  $11,289.69   \n",
       "2    $0.00     $4,012.46      $0.00       $7.92            $0.00       $0.00   \n",
       "3    $0.00     $9,770.61      $0.00       $8.30            $0.00      $73.88   \n",
       "4    $0.00    $19,976.13  $8,875.80       $8.90            $0.00     $522.48   \n",
       "\n",
       "  rx_rebates rx_with_rebates rx_without_rebates spec_cap  \n",
       "0      $0.00           $0.00              $0.00  $843.78  \n",
       "1      $0.00      $10,688.46         $10,859.82  $906.77  \n",
       "2      $0.00           $0.00              $0.00  $815.84  \n",
       "3      $0.00          $62.87             $64.91  $846.26  \n",
       "4      $0.00         $517.56            $606.01  $867.55  \n",
       "\n",
       "[5 rows x 28 columns]"
      ]
     },
     "execution_count": 3,
     "metadata": {},
     "output_type": "execute_result"
    }
   ],
   "source": [
    "df.head()"
   ]
  },
  {
   "cell_type": "code",
   "execution_count": 10,
   "metadata": {},
   "outputs": [
    {
     "name": "stdout",
     "output_type": "stream",
     "text": [
      "(52152, 5)\n"
     ]
    },
    {
     "data": {
      "text/html": [
       "<div>\n",
       "<style scoped>\n",
       "    .dataframe tbody tr th:only-of-type {\n",
       "        vertical-align: middle;\n",
       "    }\n",
       "\n",
       "    .dataframe tbody tr th {\n",
       "        vertical-align: top;\n",
       "    }\n",
       "\n",
       "    .dataframe thead th {\n",
       "        text-align: right;\n",
       "    }\n",
       "</style>\n",
       "<table border=\"1\" class=\"dataframe\">\n",
       "  <thead>\n",
       "    <tr style=\"text-align: right;\">\n",
       "      <th></th>\n",
       "      <th>MONTH</th>\n",
       "      <th>SERVICE_CATEGORY</th>\n",
       "      <th>CLAIM_SPECIALTY</th>\n",
       "      <th>PAYER</th>\n",
       "      <th>PAID_AMOUNT</th>\n",
       "    </tr>\n",
       "  </thead>\n",
       "  <tbody>\n",
       "    <tr>\n",
       "      <th>0</th>\n",
       "      <td>201801</td>\n",
       "      <td>AncillaryFFS</td>\n",
       "      <td>NaN</td>\n",
       "      <td>Payer F</td>\n",
       "      <td>128438</td>\n",
       "    </tr>\n",
       "    <tr>\n",
       "      <th>1</th>\n",
       "      <td>201801</td>\n",
       "      <td>AncillaryFFS</td>\n",
       "      <td>NaN</td>\n",
       "      <td>Payer H</td>\n",
       "      <td>66624</td>\n",
       "    </tr>\n",
       "    <tr>\n",
       "      <th>2</th>\n",
       "      <td>201801</td>\n",
       "      <td>AncillaryFFS</td>\n",
       "      <td>NaN</td>\n",
       "      <td>Payer O</td>\n",
       "      <td>118108</td>\n",
       "    </tr>\n",
       "    <tr>\n",
       "      <th>3</th>\n",
       "      <td>201801</td>\n",
       "      <td>AncillaryFFS</td>\n",
       "      <td>NaN</td>\n",
       "      <td>Payer W</td>\n",
       "      <td>1073</td>\n",
       "    </tr>\n",
       "    <tr>\n",
       "      <th>4</th>\n",
       "      <td>201801</td>\n",
       "      <td>AncillaryFFS</td>\n",
       "      <td>ACH</td>\n",
       "      <td>Payer W</td>\n",
       "      <td>604</td>\n",
       "    </tr>\n",
       "    <tr>\n",
       "      <th>5</th>\n",
       "      <td>201801</td>\n",
       "      <td>AncillaryFFS</td>\n",
       "      <td>Advanced Registered Nurse Prac</td>\n",
       "      <td>Payer UN</td>\n",
       "      <td>0</td>\n",
       "    </tr>\n",
       "    <tr>\n",
       "      <th>6</th>\n",
       "      <td>201801</td>\n",
       "      <td>AncillaryFFS</td>\n",
       "      <td>ADVANCED RN PRACT</td>\n",
       "      <td>Payer CA</td>\n",
       "      <td>1772</td>\n",
       "    </tr>\n",
       "    <tr>\n",
       "      <th>7</th>\n",
       "      <td>201801</td>\n",
       "      <td>AncillaryFFS</td>\n",
       "      <td>AMBULANCE</td>\n",
       "      <td>Payer CA</td>\n",
       "      <td>446698</td>\n",
       "    </tr>\n",
       "    <tr>\n",
       "      <th>8</th>\n",
       "      <td>201801</td>\n",
       "      <td>AncillaryFFS</td>\n",
       "      <td>AMBULANCE</td>\n",
       "      <td>Payer CO</td>\n",
       "      <td>51664</td>\n",
       "    </tr>\n",
       "    <tr>\n",
       "      <th>9</th>\n",
       "      <td>201801</td>\n",
       "      <td>AncillaryFFS</td>\n",
       "      <td>AMBULANCE</td>\n",
       "      <td>Payer F</td>\n",
       "      <td>1083232</td>\n",
       "    </tr>\n",
       "  </tbody>\n",
       "</table>\n",
       "</div>"
      ],
      "text/plain": [
       "    MONTH SERVICE_CATEGORY                 CLAIM_SPECIALTY     PAYER  \\\n",
       "0  201801     AncillaryFFS                             NaN   Payer F   \n",
       "1  201801     AncillaryFFS                             NaN   Payer H   \n",
       "2  201801     AncillaryFFS                             NaN   Payer O   \n",
       "3  201801     AncillaryFFS                             NaN   Payer W   \n",
       "4  201801     AncillaryFFS                             ACH   Payer W   \n",
       "5  201801     AncillaryFFS  Advanced Registered Nurse Prac  Payer UN   \n",
       "6  201801     AncillaryFFS               ADVANCED RN PRACT  Payer CA   \n",
       "7  201801     AncillaryFFS                       AMBULANCE  Payer CA   \n",
       "8  201801     AncillaryFFS                       AMBULANCE  Payer CO   \n",
       "9  201801     AncillaryFFS                       AMBULANCE   Payer F   \n",
       "\n",
       "   PAID_AMOUNT  \n",
       "0       128438  \n",
       "1        66624  \n",
       "2       118108  \n",
       "3         1073  \n",
       "4          604  \n",
       "5            0  \n",
       "6         1772  \n",
       "7       446698  \n",
       "8        51664  \n",
       "9      1083232  "
      ]
     },
     "execution_count": 10,
     "metadata": {},
     "output_type": "execute_result"
    }
   ],
   "source": [
    "df = pd.read_csv('claims_test.csv')\n",
    "print(df.shape)\n",
    "df.head(10)"
   ]
  },
  {
   "cell_type": "code",
   "execution_count": 9,
   "metadata": {},
   "outputs": [
    {
     "data": {
      "text/plain": [
       "MONTH                 0\n",
       "SERVICE_CATEGORY      0\n",
       "CLAIM_SPECIALTY     251\n",
       "PAYER                 0\n",
       "PAID_AMOUNT           0\n",
       "dtype: int64"
      ]
     },
     "execution_count": 9,
     "metadata": {},
     "output_type": "execute_result"
    }
   ],
   "source": [
    "df.isna().sum()"
   ]
  },
  {
   "cell_type": "code",
   "execution_count": 36,
   "metadata": {},
   "outputs": [
    {
     "data": {
      "text/plain": [
       "0"
      ]
     },
     "execution_count": 36,
     "metadata": {},
     "output_type": "execute_result"
    }
   ],
   "source": [
    "df.duplicated().sum()"
   ]
  },
  {
   "cell_type": "code",
   "execution_count": null,
   "metadata": {},
   "outputs": [],
   "source": []
  },
  {
   "cell_type": "code",
   "execution_count": 11,
   "metadata": {},
   "outputs": [
    {
     "data": {
      "text/plain": [
       "array([201801, 201802, 201803, 201804, 201805, 201806, 201807, 201808,\n",
       "       201809, 201810, 201811, 201812, 201900, 201901, 201902, 201903,\n",
       "       201904, 201905, 201906, 201907, 201908, 201909, 201910, 201911,\n",
       "       201912, 202001, 202002, 202003, 202004, 202005, 202006, 202007])"
      ]
     },
     "execution_count": 11,
     "metadata": {},
     "output_type": "execute_result"
    }
   ],
   "source": [
    "df['MONTH'].unique()"
   ]
  },
  {
   "cell_type": "code",
   "execution_count": 12,
   "metadata": {},
   "outputs": [
    {
     "data": {
      "text/plain": [
       "array(['AncillaryFFS', 'ASCServices', 'ERServices', 'InpatientServices',\n",
       "       'OutpatientServices', 'PCPEncounter', 'PCPFFS', 'SNFServices',\n",
       "       'SpecialistFFS', 'SpecialistsFFS'], dtype=object)"
      ]
     },
     "execution_count": 12,
     "metadata": {},
     "output_type": "execute_result"
    }
   ],
   "source": [
    "df['SERVICE_CATEGORY'].unique()"
   ]
  },
  {
   "cell_type": "code",
   "execution_count": 17,
   "metadata": {},
   "outputs": [
    {
     "data": {
      "text/plain": [
       "<matplotlib.axes._subplots.AxesSubplot at 0x7ff1cd3c52b0>"
      ]
     },
     "execution_count": 17,
     "metadata": {},
     "output_type": "execute_result"
    },
    {
     "data": {
      "image/png": "[encoded data removed]",
      "text/plain": [
       "<Figure size 1008x648 with 1 Axes>"
      ]
     },
     "metadata": {
      "needs_background": "light"
     },
     "output_type": "display_data"
    }
   ],
   "source": [
    "plt.figure(figsize=(14, 9))\n",
    "sns.countplot(df['SERVICE_CATEGORY'])"
   ]
  },
  {
   "cell_type": "code",
   "execution_count": 18,
   "metadata": {},
   "outputs": [
    {
     "data": {
      "text/plain": [
       "<matplotlib.axes._subplots.AxesSubplot at 0x7ff1caf5dd30>"
      ]
     },
     "execution_count": 18,
     "metadata": {},
     "output_type": "execute_result"
    },
    {
     "data": {
      "image/png": "[encoded data removed]",
      "text/plain": [
       "<Figure size 1008x648 with 1 Axes>"
      ]
     },
     "metadata": {
      "needs_background": "light"
     },
     "output_type": "display_data"
    }
   ],
   "source": [
    "plt.figure(figsize=(14, 9))\n",
    "sns.countplot(df['MONTH'])"
   ]
  },
  {
   "cell_type": "code",
   "execution_count": 22,
   "metadata": {},
   "outputs": [
    {
     "data": {
      "text/plain": [
       "201802    1664\n",
       "202004    1539\n",
       "202006    1344\n",
       "202007      67\n",
       "201900      11\n",
       "Name: MONTH, dtype: int64"
      ]
     },
     "execution_count": 22,
     "metadata": {},
     "output_type": "execute_result"
    }
   ],
   "source": [
    "df['MONTH'].value_counts().tail(5)"
   ]
  },
  {
   "cell_type": "code",
   "execution_count": 24,
   "metadata": {},
   "outputs": [
    {
     "data": {
      "text/plain": [
       "<matplotlib.axes._subplots.AxesSubplot at 0x7ff1cb390ef0>"
      ]
     },
     "execution_count": 24,
     "metadata": {},
     "output_type": "execute_result"
    },
    {
     "data": {
      "image/png": "[encoded data removed]",
      "text/plain": [
       "<Figure size 1008x648 with 1 Axes>"
      ]
     },
     "metadata": {
      "needs_background": "light"
     },
     "output_type": "display_data"
    }
   ],
   "source": [
    "plt.figure(figsize=(14, 9))\n",
    "sns.countplot(df['PAYER'])"
   ]
  },
  {
   "cell_type": "code",
   "execution_count": 32,
   "metadata": {},
   "outputs": [
    {
     "data": {
      "text/plain": [
       "906"
      ]
     },
     "execution_count": 32,
     "metadata": {},
     "output_type": "execute_result"
    }
   ],
   "source": [
    "len(df['CLAIM_SPECIALTY'].fillna('UNKNOWN').unique())"
   ]
  },
  {
   "cell_type": "code",
   "execution_count": 33,
   "metadata": {},
   "outputs": [
    {
     "name": "stderr",
     "output_type": "stream",
     "text": [
      "/home/ser/.local/lib/python3.6/site-packages/matplotlib/backends/backend_agg.py:183: RuntimeWarning: Glyph 9 missing from current font.\n",
      "  font.set_text(s, 0, flags=flags)\n"
     ]
    },
    {
     "data": {
      "image/png": "[encoded data removed]",
      "text/plain": [
       "<Figure size 1008x648 with 1 Axes>"
      ]
     },
     "metadata": {
      "needs_background": "light"
     },
     "output_type": "display_data"
    }
   ],
   "source": [
    "plt.figure(figsize=(14, 9))\n",
    "sns.countplot(df['CLAIM_SPECIALTY'].fillna('UNKNOWN'));"
   ]
  },
  {
   "cell_type": "code",
   "execution_count": 34,
   "metadata": {},
   "outputs": [
    {
     "data": {
      "text/plain": [
       "count    5.215200e+04\n",
       "mean     1.015469e+05\n",
       "std      1.035692e+06\n",
       "min     -1.689190e+05\n",
       "25%      7.740000e+02\n",
       "50%      3.731000e+03\n",
       "75%      2.040950e+04\n",
       "max      6.805834e+07\n",
       "Name: PAID_AMOUNT, dtype: float64"
      ]
     },
     "execution_count": 34,
     "metadata": {},
     "output_type": "execute_result"
    }
   ],
   "source": [
    "df['PAID_AMOUNT'].describe()"
   ]
  },
  {
   "cell_type": "code",
   "execution_count": 38,
   "metadata": {},
   "outputs": [
    {
     "data": {
      "text/html": [
       "<div>\n",
       "<style scoped>\n",
       "    .dataframe tbody tr th:only-of-type {\n",
       "        vertical-align: middle;\n",
       "    }\n",
       "\n",
       "    .dataframe tbody tr th {\n",
       "        vertical-align: top;\n",
       "    }\n",
       "\n",
       "    .dataframe thead th {\n",
       "        text-align: right;\n",
       "    }\n",
       "</style>\n",
       "<table border=\"1\" class=\"dataframe\">\n",
       "  <thead>\n",
       "    <tr style=\"text-align: right;\">\n",
       "      <th></th>\n",
       "      <th>MONTH</th>\n",
       "      <th>SERVICE_CATEGORY</th>\n",
       "      <th>CLAIM_SPECIALTY</th>\n",
       "      <th>PAYER</th>\n",
       "      <th>PAID_AMOUNT</th>\n",
       "    </tr>\n",
       "  </thead>\n",
       "  <tbody>\n",
       "    <tr>\n",
       "      <th>26</th>\n",
       "      <td>201801</td>\n",
       "      <td>AncillaryFFS</td>\n",
       "      <td>Cardiology</td>\n",
       "      <td>Payer UN</td>\n",
       "      <td>-1000</td>\n",
       "    </tr>\n",
       "    <tr>\n",
       "      <th>46</th>\n",
       "      <td>201801</td>\n",
       "      <td>AncillaryFFS</td>\n",
       "      <td>Dermatology</td>\n",
       "      <td>Payer UN</td>\n",
       "      <td>-614</td>\n",
       "    </tr>\n",
       "    <tr>\n",
       "      <th>102</th>\n",
       "      <td>201801</td>\n",
       "      <td>AncillaryFFS</td>\n",
       "      <td>Geriatric Medicine</td>\n",
       "      <td>Payer UN</td>\n",
       "      <td>-803</td>\n",
       "    </tr>\n",
       "    <tr>\n",
       "      <th>103</th>\n",
       "      <td>201801</td>\n",
       "      <td>AncillaryFFS</td>\n",
       "      <td>GERIATRICS</td>\n",
       "      <td>Payer B</td>\n",
       "      <td>-811</td>\n",
       "    </tr>\n",
       "    <tr>\n",
       "      <th>144</th>\n",
       "      <td>201801</td>\n",
       "      <td>AncillaryFFS</td>\n",
       "      <td>Internal Medicine</td>\n",
       "      <td>Payer UN</td>\n",
       "      <td>-2120</td>\n",
       "    </tr>\n",
       "    <tr>\n",
       "      <th>...</th>\n",
       "      <td>...</td>\n",
       "      <td>...</td>\n",
       "      <td>...</td>\n",
       "      <td>...</td>\n",
       "      <td>...</td>\n",
       "    </tr>\n",
       "    <tr>\n",
       "      <th>49357</th>\n",
       "      <td>202005</td>\n",
       "      <td>AncillaryFFS</td>\n",
       "      <td>Physician Assistant</td>\n",
       "      <td>Payer UN</td>\n",
       "      <td>-785</td>\n",
       "    </tr>\n",
       "    <tr>\n",
       "      <th>49414</th>\n",
       "      <td>202005</td>\n",
       "      <td>AncillaryFFS</td>\n",
       "      <td>Rheumatology</td>\n",
       "      <td>Payer UN</td>\n",
       "      <td>-5496</td>\n",
       "    </tr>\n",
       "    <tr>\n",
       "      <th>50158</th>\n",
       "      <td>202005</td>\n",
       "      <td>PCPEncounter</td>\n",
       "      <td>FAMILY PRACTICE</td>\n",
       "      <td>Payer CA</td>\n",
       "      <td>-978</td>\n",
       "    </tr>\n",
       "    <tr>\n",
       "      <th>50165</th>\n",
       "      <td>202005</td>\n",
       "      <td>PCPEncounter</td>\n",
       "      <td>GENERAL PRACTICE</td>\n",
       "      <td>Payer CA</td>\n",
       "      <td>-568</td>\n",
       "    </tr>\n",
       "    <tr>\n",
       "      <th>50172</th>\n",
       "      <td>202005</td>\n",
       "      <td>PCPEncounter</td>\n",
       "      <td>INTERNAL MEDICINE</td>\n",
       "      <td>Payer CA</td>\n",
       "      <td>-13649</td>\n",
       "    </tr>\n",
       "  </tbody>\n",
       "</table>\n",
       "<p>325 rows × 5 columns</p>\n",
       "</div>"
      ],
      "text/plain": [
       "        MONTH SERVICE_CATEGORY      CLAIM_SPECIALTY     PAYER  PAID_AMOUNT\n",
       "26     201801     AncillaryFFS           Cardiology  Payer UN        -1000\n",
       "46     201801     AncillaryFFS          Dermatology  Payer UN         -614\n",
       "102    201801     AncillaryFFS   Geriatric Medicine  Payer UN         -803\n",
       "103    201801     AncillaryFFS           GERIATRICS   Payer B         -811\n",
       "144    201801     AncillaryFFS    Internal Medicine  Payer UN        -2120\n",
       "...       ...              ...                  ...       ...          ...\n",
       "49357  202005     AncillaryFFS  Physician Assistant  Payer UN         -785\n",
       "49414  202005     AncillaryFFS         Rheumatology  Payer UN        -5496\n",
       "50158  202005     PCPEncounter      FAMILY PRACTICE  Payer CA         -978\n",
       "50165  202005     PCPEncounter     GENERAL PRACTICE  Payer CA         -568\n",
       "50172  202005     PCPEncounter    INTERNAL MEDICINE  Payer CA       -13649\n",
       "\n",
       "[325 rows x 5 columns]"
      ]
     },
     "execution_count": 38,
     "metadata": {},
     "output_type": "execute_result"
    }
   ],
   "source": [
    "df[df['PAID_AMOUNT'] < 0]"
   ]
  },
  {
   "cell_type": "code",
   "execution_count": 48,
   "metadata": {},
   "outputs": [
    {
     "data": {
      "text/plain": [
       "count    5.182700e+04\n",
       "mean     1.022122e+05\n",
       "std      1.038899e+06\n",
       "min      0.000000e+00\n",
       "25%      8.010000e+02\n",
       "50%      3.810000e+03\n",
       "75%      2.066000e+04\n",
       "max      6.805834e+07\n",
       "Name: PAID_AMOUNT, dtype: float64"
      ]
     },
     "execution_count": 48,
     "metadata": {},
     "output_type": "execute_result"
    }
   ],
   "source": [
    "df[df['PAID_AMOUNT'] >= 0]['PAID_AMOUNT'].describe()"
   ]
  },
  {
   "cell_type": "code",
   "execution_count": 52,
   "metadata": {},
   "outputs": [
    {
     "data": {
      "text/plain": [
       "102212.19159897351"
      ]
     },
     "execution_count": 52,
     "metadata": {},
     "output_type": "execute_result"
    }
   ],
   "source": [
    "df[df['PAID_AMOUNT'] >= 0]['PAID_AMOUNT'].mean()"
   ]
  },
  {
   "cell_type": "code",
   "execution_count": 71,
   "metadata": {},
   "outputs": [
    {
     "data": {
      "text/html": [
       "<div>\n",
       "<style scoped>\n",
       "    .dataframe tbody tr th:only-of-type {\n",
       "        vertical-align: middle;\n",
       "    }\n",
       "\n",
       "    .dataframe tbody tr th {\n",
       "        vertical-align: top;\n",
       "    }\n",
       "\n",
       "    .dataframe thead th {\n",
       "        text-align: right;\n",
       "    }\n",
       "</style>\n",
       "<table border=\"1\" class=\"dataframe\">\n",
       "  <thead>\n",
       "    <tr style=\"text-align: right;\">\n",
       "      <th></th>\n",
       "      <th>PAID_AMOUNT</th>\n",
       "    </tr>\n",
       "    <tr>\n",
       "      <th>PAYER</th>\n",
       "      <th></th>\n",
       "    </tr>\n",
       "  </thead>\n",
       "  <tbody>\n",
       "    <tr>\n",
       "      <th>Payer B</th>\n",
       "      <td>33423132</td>\n",
       "    </tr>\n",
       "    <tr>\n",
       "      <th>Payer CA</th>\n",
       "      <td>929447942</td>\n",
       "    </tr>\n",
       "    <tr>\n",
       "      <th>Payer CO</th>\n",
       "      <td>105056642</td>\n",
       "    </tr>\n",
       "    <tr>\n",
       "      <th>Payer F</th>\n",
       "      <td>2524398389</td>\n",
       "    </tr>\n",
       "    <tr>\n",
       "      <th>Payer H</th>\n",
       "      <td>634888053</td>\n",
       "    </tr>\n",
       "    <tr>\n",
       "      <th>Payer O</th>\n",
       "      <td>579204128</td>\n",
       "    </tr>\n",
       "    <tr>\n",
       "      <th>Payer S</th>\n",
       "      <td>66998959</td>\n",
       "    </tr>\n",
       "    <tr>\n",
       "      <th>Payer UL</th>\n",
       "      <td>3312099</td>\n",
       "    </tr>\n",
       "    <tr>\n",
       "      <th>Payer UN</th>\n",
       "      <td>125467835</td>\n",
       "    </tr>\n",
       "    <tr>\n",
       "      <th>Payer W</th>\n",
       "      <td>293674451</td>\n",
       "    </tr>\n",
       "  </tbody>\n",
       "</table>\n",
       "</div>"
      ],
      "text/plain": [
       "          PAID_AMOUNT\n",
       "PAYER                \n",
       "Payer B      33423132\n",
       "Payer CA    929447942\n",
       "Payer CO    105056642\n",
       "Payer F    2524398389\n",
       "Payer H     634888053\n",
       "Payer O     579204128\n",
       "Payer S      66998959\n",
       "Payer UL      3312099\n",
       "Payer UN    125467835\n",
       "Payer W     293674451"
      ]
     },
     "execution_count": 71,
     "metadata": {},
     "output_type": "execute_result"
    }
   ],
   "source": [
    "df.groupby('PAYER').agg({'PAID_AMOUNT': 'sum'})"
   ]
  },
  {
   "cell_type": "code",
   "execution_count": 72,
   "metadata": {},
   "outputs": [
    {
     "data": {
      "text/html": [
       "<div>\n",
       "<style scoped>\n",
       "    .dataframe tbody tr th:only-of-type {\n",
       "        vertical-align: middle;\n",
       "    }\n",
       "\n",
       "    .dataframe tbody tr th {\n",
       "        vertical-align: top;\n",
       "    }\n",
       "\n",
       "    .dataframe thead th {\n",
       "        text-align: right;\n",
       "    }\n",
       "</style>\n",
       "<table border=\"1\" class=\"dataframe\">\n",
       "  <thead>\n",
       "    <tr style=\"text-align: right;\">\n",
       "      <th></th>\n",
       "      <th>PAID_AMOUNT</th>\n",
       "    </tr>\n",
       "    <tr>\n",
       "      <th>SERVICE_CATEGORY</th>\n",
       "      <th></th>\n",
       "    </tr>\n",
       "  </thead>\n",
       "  <tbody>\n",
       "    <tr>\n",
       "      <th>ASCServices</th>\n",
       "      <td>123586181</td>\n",
       "    </tr>\n",
       "    <tr>\n",
       "      <th>AncillaryFFS</th>\n",
       "      <td>494931510</td>\n",
       "    </tr>\n",
       "    <tr>\n",
       "      <th>ERServices</th>\n",
       "      <td>321032551</td>\n",
       "    </tr>\n",
       "    <tr>\n",
       "      <th>InpatientServices</th>\n",
       "      <td>2537560023</td>\n",
       "    </tr>\n",
       "    <tr>\n",
       "      <th>OutpatientServices</th>\n",
       "      <td>598584471</td>\n",
       "    </tr>\n",
       "    <tr>\n",
       "      <th>PCPEncounter</th>\n",
       "      <td>-143517</td>\n",
       "    </tr>\n",
       "    <tr>\n",
       "      <th>PCPFFS</th>\n",
       "      <td>104457187</td>\n",
       "    </tr>\n",
       "    <tr>\n",
       "      <th>SNFServices</th>\n",
       "      <td>220556450</td>\n",
       "    </tr>\n",
       "    <tr>\n",
       "      <th>SpecialistFFS</th>\n",
       "      <td>38825926</td>\n",
       "    </tr>\n",
       "    <tr>\n",
       "      <th>SpecialistsFFS</th>\n",
       "      <td>856480848</td>\n",
       "    </tr>\n",
       "  </tbody>\n",
       "</table>\n",
       "</div>"
      ],
      "text/plain": [
       "                    PAID_AMOUNT\n",
       "SERVICE_CATEGORY               \n",
       "ASCServices           123586181\n",
       "AncillaryFFS          494931510\n",
       "ERServices            321032551\n",
       "InpatientServices    2537560023\n",
       "OutpatientServices    598584471\n",
       "PCPEncounter            -143517\n",
       "PCPFFS                104457187\n",
       "SNFServices           220556450\n",
       "SpecialistFFS          38825926\n",
       "SpecialistsFFS        856480848"
      ]
     },
     "execution_count": 72,
     "metadata": {},
     "output_type": "execute_result"
    }
   ],
   "source": [
    "df.groupby('SERVICE_CATEGORY').agg({'PAID_AMOUNT': 'sum'})"
   ]
  },
  {
   "cell_type": "code",
   "execution_count": null,
   "metadata": {},
   "outputs": [],
   "source": []
  },
  {
   "cell_type": "code",
   "execution_count": 66,
   "metadata": {},
   "outputs": [
    {
     "data": {
      "text/html": [
       "<div>\n",
       "<style scoped>\n",
       "    .dataframe tbody tr th:only-of-type {\n",
       "        vertical-align: middle;\n",
       "    }\n",
       "\n",
       "    .dataframe tbody tr th {\n",
       "        vertical-align: top;\n",
       "    }\n",
       "\n",
       "    .dataframe thead th {\n",
       "        text-align: right;\n",
       "    }\n",
       "</style>\n",
       "<table border=\"1\" class=\"dataframe\">\n",
       "  <thead>\n",
       "    <tr style=\"text-align: right;\">\n",
       "      <th></th>\n",
       "      <th>MONTH</th>\n",
       "      <th>SERVICE_CATEGORY</th>\n",
       "      <th>CLAIM_SPECIALTY</th>\n",
       "      <th>PAYER</th>\n",
       "      <th>PAID_AMOUNT</th>\n",
       "    </tr>\n",
       "  </thead>\n",
       "  <tbody>\n",
       "    <tr>\n",
       "      <th>7</th>\n",
       "      <td>201801</td>\n",
       "      <td>AncillaryFFS</td>\n",
       "      <td>AMBULANCE</td>\n",
       "      <td>Payer CA</td>\n",
       "      <td>446698</td>\n",
       "    </tr>\n",
       "    <tr>\n",
       "      <th>9</th>\n",
       "      <td>201801</td>\n",
       "      <td>AncillaryFFS</td>\n",
       "      <td>AMBULANCE</td>\n",
       "      <td>Payer F</td>\n",
       "      <td>1083232</td>\n",
       "    </tr>\n",
       "    <tr>\n",
       "      <th>83</th>\n",
       "      <td>201801</td>\n",
       "      <td>AncillaryFFS</td>\n",
       "      <td>FAMILY PRACTICE</td>\n",
       "      <td>Payer F</td>\n",
       "      <td>279445</td>\n",
       "    </tr>\n",
       "    <tr>\n",
       "      <th>112</th>\n",
       "      <td>201801</td>\n",
       "      <td>AncillaryFFS</td>\n",
       "      <td>HOME HEALTH</td>\n",
       "      <td>Payer F</td>\n",
       "      <td>1981581</td>\n",
       "    </tr>\n",
       "    <tr>\n",
       "      <th>113</th>\n",
       "      <td>201801</td>\n",
       "      <td>AncillaryFFS</td>\n",
       "      <td>HOME HEALTH</td>\n",
       "      <td>Payer O</td>\n",
       "      <td>458309</td>\n",
       "    </tr>\n",
       "    <tr>\n",
       "      <th>...</th>\n",
       "      <td>...</td>\n",
       "      <td>...</td>\n",
       "      <td>...</td>\n",
       "      <td>...</td>\n",
       "      <td>...</td>\n",
       "    </tr>\n",
       "    <tr>\n",
       "      <th>52042</th>\n",
       "      <td>202006</td>\n",
       "      <td>SpecialistsFFS</td>\n",
       "      <td>RADIOLOGY</td>\n",
       "      <td>Payer F</td>\n",
       "      <td>480306</td>\n",
       "    </tr>\n",
       "    <tr>\n",
       "      <th>52076</th>\n",
       "      <td>202006</td>\n",
       "      <td>SpecialistsFFS</td>\n",
       "      <td>UROLOGY</td>\n",
       "      <td>Payer F</td>\n",
       "      <td>269094</td>\n",
       "    </tr>\n",
       "    <tr>\n",
       "      <th>52109</th>\n",
       "      <td>202007</td>\n",
       "      <td>InpatientServices</td>\n",
       "      <td>HOSPITAL</td>\n",
       "      <td>Payer H</td>\n",
       "      <td>666120</td>\n",
       "    </tr>\n",
       "    <tr>\n",
       "      <th>52135</th>\n",
       "      <td>202007</td>\n",
       "      <td>SpecialistsFFS</td>\n",
       "      <td>HEMATOLOGY/ONCOLOGY</td>\n",
       "      <td>Payer F</td>\n",
       "      <td>385195</td>\n",
       "    </tr>\n",
       "    <tr>\n",
       "      <th>52137</th>\n",
       "      <td>202007</td>\n",
       "      <td>SpecialistsFFS</td>\n",
       "      <td>MEDICAL DOCTOR</td>\n",
       "      <td>Payer H</td>\n",
       "      <td>640373</td>\n",
       "    </tr>\n",
       "  </tbody>\n",
       "</table>\n",
       "<p>2592 rows × 5 columns</p>\n",
       "</div>"
      ],
      "text/plain": [
       "        MONTH   SERVICE_CATEGORY      CLAIM_SPECIALTY     PAYER  PAID_AMOUNT\n",
       "7      201801       AncillaryFFS            AMBULANCE  Payer CA       446698\n",
       "9      201801       AncillaryFFS            AMBULANCE   Payer F      1083232\n",
       "83     201801       AncillaryFFS      FAMILY PRACTICE   Payer F       279445\n",
       "112    201801       AncillaryFFS          HOME HEALTH   Payer F      1981581\n",
       "113    201801       AncillaryFFS          HOME HEALTH   Payer O       458309\n",
       "...       ...                ...                  ...       ...          ...\n",
       "52042  202006     SpecialistsFFS            RADIOLOGY   Payer F       480306\n",
       "52076  202006     SpecialistsFFS              UROLOGY   Payer F       269094\n",
       "52109  202007  InpatientServices             HOSPITAL   Payer H       666120\n",
       "52135  202007     SpecialistsFFS  HEMATOLOGY/ONCOLOGY   Payer F       385195\n",
       "52137  202007     SpecialistsFFS       MEDICAL DOCTOR   Payer H       640373\n",
       "\n",
       "[2592 rows x 5 columns]"
      ]
     },
     "execution_count": 66,
     "metadata": {},
     "output_type": "execute_result"
    }
   ],
   "source": [
    "quantile = df[df['PAID_AMOUNT'] >= 0]['PAID_AMOUNT'].quantile(0.95)\n",
    "df[df['PAID_AMOUNT'] > quantile]\n",
    "\n"
   ]
  },
  {
   "cell_type": "code",
   "execution_count": 53,
   "metadata": {},
   "outputs": [
    {
     "data": {
      "text/plain": [
       "3810.0"
      ]
     },
     "execution_count": 53,
     "metadata": {},
     "output_type": "execute_result"
    }
   ],
   "source": [
    "df[df['PAID_AMOUNT'] >= 0]['PAID_AMOUNT'].median()"
   ]
  },
  {
   "cell_type": "code",
   "execution_count": 65,
   "metadata": {},
   "outputs": [
    {
     "data": {
      "text/plain": [
       "<matplotlib.legend.Legend at 0x7ff1c31ab748>"
      ]
     },
     "execution_count": 65,
     "metadata": {},
     "output_type": "execute_result"
    },
    {
     "data": {
      "image/png": "[encoded data removed]",
      "text/plain": [
       "<Figure size 1008x648 with 1 Axes>"
      ]
     },
     "metadata": {
      "needs_background": "light"
     },
     "output_type": "display_data"
    }
   ],
   "source": [
    "plt.figure(figsize=(14, 9))\n",
    "df[df['PAID_AMOUNT'] >= 0]['PAID_AMOUNT'].plot()\n",
    "plt.axhline(y=df[df['PAID_AMOUNT'] >= 0]['PAID_AMOUNT'].quantile(0.99), color='r', linestyle='-', label='99 quantile')\n",
    "plt.legend()"
   ]
  },
  {
   "cell_type": "code",
   "execution_count": null,
   "metadata": {},
   "outputs": [],
   "source": []
  },
  {
   "cell_type": "code",
   "execution_count": 23,
   "metadata": {},
   "outputs": [
    {
     "data": {
      "text/html": [
       "<div>\n",
       "<style scoped>\n",
       "    .dataframe tbody tr th:only-of-type {\n",
       "        vertical-align: middle;\n",
       "    }\n",
       "\n",
       "    .dataframe tbody tr th {\n",
       "        vertical-align: top;\n",
       "    }\n",
       "\n",
       "    .dataframe thead th {\n",
       "        text-align: right;\n",
       "    }\n",
       "</style>\n",
       "<table border=\"1\" class=\"dataframe\">\n",
       "  <thead>\n",
       "    <tr style=\"text-align: right;\">\n",
       "      <th></th>\n",
       "      <th>MONTH</th>\n",
       "      <th>SERVICE_CATEGORY</th>\n",
       "      <th>CLAIM_SPECIALTY</th>\n",
       "      <th>PAYER</th>\n",
       "      <th>PAID_AMOUNT</th>\n",
       "    </tr>\n",
       "  </thead>\n",
       "  <tbody>\n",
       "    <tr>\n",
       "      <th>0</th>\n",
       "      <td>201801</td>\n",
       "      <td>AncillaryFFS</td>\n",
       "      <td>NaN</td>\n",
       "      <td>Payer F</td>\n",
       "      <td>128438</td>\n",
       "    </tr>\n",
       "    <tr>\n",
       "      <th>1</th>\n",
       "      <td>201801</td>\n",
       "      <td>AncillaryFFS</td>\n",
       "      <td>NaN</td>\n",
       "      <td>Payer H</td>\n",
       "      <td>66624</td>\n",
       "    </tr>\n",
       "    <tr>\n",
       "      <th>2</th>\n",
       "      <td>201801</td>\n",
       "      <td>AncillaryFFS</td>\n",
       "      <td>NaN</td>\n",
       "      <td>Payer O</td>\n",
       "      <td>118108</td>\n",
       "    </tr>\n",
       "    <tr>\n",
       "      <th>3</th>\n",
       "      <td>201801</td>\n",
       "      <td>AncillaryFFS</td>\n",
       "      <td>NaN</td>\n",
       "      <td>Payer W</td>\n",
       "      <td>1073</td>\n",
       "    </tr>\n",
       "    <tr>\n",
       "      <th>4</th>\n",
       "      <td>201801</td>\n",
       "      <td>AncillaryFFS</td>\n",
       "      <td>ACH</td>\n",
       "      <td>Payer W</td>\n",
       "      <td>604</td>\n",
       "    </tr>\n",
       "    <tr>\n",
       "      <th>...</th>\n",
       "      <td>...</td>\n",
       "      <td>...</td>\n",
       "      <td>...</td>\n",
       "      <td>...</td>\n",
       "      <td>...</td>\n",
       "    </tr>\n",
       "    <tr>\n",
       "      <th>52147</th>\n",
       "      <td>202007</td>\n",
       "      <td>SpecialistsFFS</td>\n",
       "      <td>RADIATION ONCOLOGY</td>\n",
       "      <td>Payer F</td>\n",
       "      <td>3475</td>\n",
       "    </tr>\n",
       "    <tr>\n",
       "      <th>52148</th>\n",
       "      <td>202007</td>\n",
       "      <td>SpecialistsFFS</td>\n",
       "      <td>REGISTERED NURSE</td>\n",
       "      <td>Payer H</td>\n",
       "      <td>395</td>\n",
       "    </tr>\n",
       "    <tr>\n",
       "      <th>52149</th>\n",
       "      <td>202007</td>\n",
       "      <td>SpecialistsFFS</td>\n",
       "      <td>RHEUMATOLOGY</td>\n",
       "      <td>Payer F</td>\n",
       "      <td>16089</td>\n",
       "    </tr>\n",
       "    <tr>\n",
       "      <th>52150</th>\n",
       "      <td>202007</td>\n",
       "      <td>SpecialistsFFS</td>\n",
       "      <td>SPECIAL SERVICES</td>\n",
       "      <td>Payer H</td>\n",
       "      <td>4256</td>\n",
       "    </tr>\n",
       "    <tr>\n",
       "      <th>52151</th>\n",
       "      <td>202007</td>\n",
       "      <td>SpecialistsFFS</td>\n",
       "      <td>UROLOGY</td>\n",
       "      <td>Payer F</td>\n",
       "      <td>9422</td>\n",
       "    </tr>\n",
       "  </tbody>\n",
       "</table>\n",
       "<p>52152 rows × 5 columns</p>\n",
       "</div>"
      ],
      "text/plain": [
       "        MONTH SERVICE_CATEGORY     CLAIM_SPECIALTY    PAYER  PAID_AMOUNT\n",
       "0      201801     AncillaryFFS                 NaN  Payer F       128438\n",
       "1      201801     AncillaryFFS                 NaN  Payer H        66624\n",
       "2      201801     AncillaryFFS                 NaN  Payer O       118108\n",
       "3      201801     AncillaryFFS                 NaN  Payer W         1073\n",
       "4      201801     AncillaryFFS                 ACH  Payer W          604\n",
       "...       ...              ...                 ...      ...          ...\n",
       "52147  202007   SpecialistsFFS  RADIATION ONCOLOGY  Payer F         3475\n",
       "52148  202007   SpecialistsFFS    REGISTERED NURSE  Payer H          395\n",
       "52149  202007   SpecialistsFFS        RHEUMATOLOGY  Payer F        16089\n",
       "52150  202007   SpecialistsFFS    SPECIAL SERVICES  Payer H         4256\n",
       "52151  202007   SpecialistsFFS             UROLOGY  Payer F         9422\n",
       "\n",
       "[52152 rows x 5 columns]"
      ]
     },
     "execution_count": 23,
     "metadata": {},
     "output_type": "execute_result"
    }
   ],
   "source": [
    "df"
   ]
  },
  {
   "cell_type": "code",
   "execution_count": null,
   "metadata": {},
   "outputs": [],
   "source": []
  },
  {
   "cell_type": "code",
   "execution_count": null,
   "metadata": {},
   "outputs": [],
   "source": []
  },
  {
   "cell_type": "code",
   "execution_count": null,
   "metadata": {},
   "outputs": [],
   "source": []
  },
  {
   "cell_type": "code",
   "execution_count": null,
   "metadata": {},
   "outputs": [],
   "source": []
  }
 ],
 "metadata": {
  "kernelspec": {
   "display_name": "Python 3",
   "language": "python",
   "name": "python3"
  },
  "language_info": {
   "codemirror_mode": {
    "name": "ipython",
    "version": 3
   },
   "file_extension": ".py",
   "mimetype": "text/x-python",
   "name": "python",
   "nbconvert_exporter": "python",
   "pygments_lexer": "ipython3",
   "version": "3.6.9"
  }
 },
 "nbformat": 4,
 "nbformat_minor": 4
}
